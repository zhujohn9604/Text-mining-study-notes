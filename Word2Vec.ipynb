{
 "cells": [
  {
   "cell_type": "markdown",
   "metadata": {},
   "source": [
    "# Gensim Word2Vec Learning Notebook"
   ]
  },
  {
   "cell_type": "markdown",
   "metadata": {},
   "source": [
    "* **Reference List**\n",
    "\n",
    "\n",
    "1. [Gemsim Word2Vec Tutorial](https://www.kaggle.com/pierremegret/gensim-word2vec-tutorial)"
   ]
  },
  {
   "cell_type": "code",
   "execution_count": 1,
   "metadata": {},
   "outputs": [],
   "source": [
    "import numpy\n",
    "import nltk"
   ]
  },
  {
   "cell_type": "code",
   "execution_count": 49,
   "metadata": {},
   "outputs": [],
   "source": [
    "import re  # For preprocessing\n",
    "import pandas as pd  # For data handling\n",
    "from time import time  # To time our operations\n",
    "from collections import defaultdict  # For word frequency\n",
    "\n",
    "import spacy  # For preprocessing\n",
    "\n",
    "import logging  # Setting up the loggings to monitor gensim\n",
    "logging.basicConfig(format=\"%(levelname)s - %(asctime)s: %(message)s\", datefmt= '%H:%M:%S', level=logging.INFO)\n"
   ]
  },
  {
   "cell_type": "code",
   "execution_count": 35,
   "metadata": {
    "scrolled": false
   },
   "outputs": [
    {
     "data": {
      "text/plain": [
       "(158314, 2)"
      ]
     },
     "execution_count": 35,
     "metadata": {},
     "output_type": "execute_result"
    }
   ],
   "source": [
    "df = pd.read_csv('simpsons_dataset.csv')\n",
    "df.shape"
   ]
  },
  {
   "cell_type": "code",
   "execution_count": 36,
   "metadata": {},
   "outputs": [
    {
     "data": {
      "text/html": [
       "<div>\n",
       "<style scoped>\n",
       "    .dataframe tbody tr th:only-of-type {\n",
       "        vertical-align: middle;\n",
       "    }\n",
       "\n",
       "    .dataframe tbody tr th {\n",
       "        vertical-align: top;\n",
       "    }\n",
       "\n",
       "    .dataframe thead th {\n",
       "        text-align: right;\n",
       "    }\n",
       "</style>\n",
       "<table border=\"1\" class=\"dataframe\">\n",
       "  <thead>\n",
       "    <tr style=\"text-align: right;\">\n",
       "      <th></th>\n",
       "      <th>raw_character_text</th>\n",
       "      <th>spoken_words</th>\n",
       "    </tr>\n",
       "  </thead>\n",
       "  <tbody>\n",
       "    <tr>\n",
       "      <th>0</th>\n",
       "      <td>Miss Hoover</td>\n",
       "      <td>No, actually, it was a little of both. Sometim...</td>\n",
       "    </tr>\n",
       "    <tr>\n",
       "      <th>1</th>\n",
       "      <td>Lisa Simpson</td>\n",
       "      <td>Where's Mr. Bergstrom?</td>\n",
       "    </tr>\n",
       "    <tr>\n",
       "      <th>2</th>\n",
       "      <td>Miss Hoover</td>\n",
       "      <td>I don't know. Although I'd sure like to talk t...</td>\n",
       "    </tr>\n",
       "    <tr>\n",
       "      <th>3</th>\n",
       "      <td>Lisa Simpson</td>\n",
       "      <td>That life is worth living.</td>\n",
       "    </tr>\n",
       "    <tr>\n",
       "      <th>4</th>\n",
       "      <td>Edna Krabappel-Flanders</td>\n",
       "      <td>The polls will be open from now until the end ...</td>\n",
       "    </tr>\n",
       "  </tbody>\n",
       "</table>\n",
       "</div>"
      ],
      "text/plain": [
       "        raw_character_text                                       spoken_words\n",
       "0              Miss Hoover  No, actually, it was a little of both. Sometim...\n",
       "1             Lisa Simpson                             Where's Mr. Bergstrom?\n",
       "2              Miss Hoover  I don't know. Although I'd sure like to talk t...\n",
       "3             Lisa Simpson                         That life is worth living.\n",
       "4  Edna Krabappel-Flanders  The polls will be open from now until the end ..."
      ]
     },
     "execution_count": 36,
     "metadata": {},
     "output_type": "execute_result"
    }
   ],
   "source": [
    "df.head()"
   ]
  },
  {
   "cell_type": "code",
   "execution_count": 44,
   "metadata": {},
   "outputs": [
    {
     "data": {
      "text/plain": [
       "raw_character_text    0\n",
       "spoken_words          0\n",
       "dtype: int64"
      ]
     },
     "execution_count": 44,
     "metadata": {},
     "output_type": "execute_result"
    }
   ],
   "source": [
    "df = df.dropna().reset_index(drop = True)\n",
    "df.isnull().sum()"
   ]
  },
  {
   "cell_type": "code",
   "execution_count": 62,
   "metadata": {},
   "outputs": [],
   "source": [
    "nlp = spacy.load('en', disable=['ner', 'parser']) # disabling Named Entity Recognition for speed"
   ]
  },
  {
   "cell_type": "code",
   "execution_count": 63,
   "metadata": {},
   "outputs": [],
   "source": [
    "def cleaning(doc):\n",
    "    # Lemmatizes and removes stopwords\n",
    "    # doc needs to be a spacy Doc object\n",
    "    txt = [token.lemma_ for token in doc if not token.is_stop]\n",
    "    # Word2Vec uses context words to learn the vector representation of a target word,\n",
    "    # if a sentence is only one or two words long,\n",
    "    # the benefit for the training is very small\n",
    "    if len(txt) > 2:\n",
    "        return ' '.join(txt)"
   ]
  },
  {
   "cell_type": "code",
   "execution_count": 64,
   "metadata": {},
   "outputs": [],
   "source": [
    "brief_cleaning = (re.sub(\"[^A-Za-z']+\", ' ', str(row)).lower() for row in df['spoken_words'])"
   ]
  },
  {
   "cell_type": "code",
   "execution_count": 65,
   "metadata": {},
   "outputs": [
    {
     "name": "stdout",
     "output_type": "stream",
     "text": [
      "Time to clean up everything: 2.18 mins\n"
     ]
    }
   ],
   "source": [
    "t = time()\n",
    "\n",
    "txt = [cleaning(doc) for doc in nlp.pipe(brief_cleaning, batch_size=5000, n_threads=-1)]\n",
    "\n",
    "print('Time to clean up everything: {} mins'.format(round((time() - t) / 60, 2)))"
   ]
  },
  {
   "cell_type": "code",
   "execution_count": 67,
   "metadata": {},
   "outputs": [
    {
     "data": {
      "text/plain": [
       "(92412, 1)"
      ]
     },
     "execution_count": 67,
     "metadata": {},
     "output_type": "execute_result"
    }
   ],
   "source": [
    "df_clean = pd.DataFrame({'clean':txt})\n",
    "df_clean = df_clean.dropna().drop_duplicates()\n",
    "df_clean.shape"
   ]
  },
  {
   "cell_type": "code",
   "execution_count": 68,
   "metadata": {},
   "outputs": [
    {
     "name": "stderr",
     "output_type": "stream",
     "text": [
      "INFO - 22:05:48: 'pattern' package not found; tag filters are not available for English\n"
     ]
    }
   ],
   "source": [
    "from gensim.models.phrases import Phrases, Phraser"
   ]
  },
  {
   "cell_type": "code",
   "execution_count": 70,
   "metadata": {},
   "outputs": [],
   "source": [
    "sent = [row.split() for row in df_clean['clean']]"
   ]
  },
  {
   "cell_type": "code",
   "execution_count": 71,
   "metadata": {
    "scrolled": true
   },
   "outputs": [
    {
     "name": "stderr",
     "output_type": "stream",
     "text": [
      "INFO - 22:06:52: collecting all words and their counts\n",
      "INFO - 22:06:52: PROGRESS: at sentence #0, processed 0 words and 0 word types\n",
      "INFO - 22:06:52: PROGRESS: at sentence #10000, processed 67396 words and 50551 word types\n",
      "INFO - 22:06:52: PROGRESS: at sentence #20000, processed 140465 words and 95808 word types\n",
      "INFO - 22:06:53: PROGRESS: at sentence #30000, processed 207950 words and 132011 word types\n",
      "INFO - 22:06:53: PROGRESS: at sentence #40000, processed 270207 words and 164407 word types\n",
      "INFO - 22:06:53: PROGRESS: at sentence #50000, processed 334085 words and 196195 word types\n",
      "INFO - 22:06:53: PROGRESS: at sentence #60000, processed 400877 words and 228659 word types\n",
      "INFO - 22:06:53: PROGRESS: at sentence #70000, processed 467802 words and 260712 word types\n",
      "INFO - 22:06:53: PROGRESS: at sentence #80000, processed 534361 words and 292095 word types\n",
      "INFO - 22:06:53: PROGRESS: at sentence #90000, processed 602037 words and 321944 word types\n",
      "INFO - 22:06:53: collected 328658 word types from a corpus of 618920 words (unigram + bigrams) and 92412 sentences\n",
      "INFO - 22:06:53: using 328658 counts as vocab in Phrases<0 vocab, min_count=30, threshold=10.0, max_vocab_size=40000000>\n"
     ]
    }
   ],
   "source": [
    "phrases = Phrases(sent, min_count=30, progress_per=10000)"
   ]
  },
  {
   "cell_type": "code",
   "execution_count": 80,
   "metadata": {},
   "outputs": [
    {
     "name": "stderr",
     "output_type": "stream",
     "text": [
      "INFO - 22:11:44: source_vocab length 328658\n",
      "INFO - 22:11:47: Phraser built with 127 phrasegrams\n"
     ]
    }
   ],
   "source": [
    "bigram = Phraser(phrases)"
   ]
  },
  {
   "cell_type": "code",
   "execution_count": 81,
   "metadata": {},
   "outputs": [],
   "source": [
    "sentences = bigram[sent]"
   ]
  },
  {
   "cell_type": "code",
   "execution_count": 83,
   "metadata": {},
   "outputs": [
    {
     "data": {
      "text/plain": [
       "29673"
      ]
     },
     "execution_count": 83,
     "metadata": {},
     "output_type": "execute_result"
    }
   ],
   "source": [
    "word_freq = defaultdict(int)\n",
    "for sent in sentences:\n",
    "    for i in sent:\n",
    "        word_freq[i] += 1\n",
    "len(word_freq)"
   ]
  },
  {
   "cell_type": "code",
   "execution_count": 85,
   "metadata": {},
   "outputs": [
    {
     "data": {
      "text/plain": [
       "['be', 'not', 'oh', 'will', 'like', \"'s\", 'know', 'think', 'hey', 'good']"
      ]
     },
     "execution_count": 85,
     "metadata": {},
     "output_type": "execute_result"
    }
   ],
   "source": [
    "sorted(word_freq, key=word_freq.get, reverse=True)[:10]"
   ]
  },
  {
   "cell_type": "markdown",
   "metadata": {},
   "source": [
    "## Training the model"
   ]
  },
  {
   "cell_type": "markdown",
   "metadata": {},
   "source": [
    "### Gensim Word2Vec Implementation:\n",
    "\n",
    "We use Gensim implementation of word2vec: https://radimrehurek.com/gensim/models/word2vec.html"
   ]
  },
  {
   "cell_type": "code",
   "execution_count": 2,
   "metadata": {},
   "outputs": [],
   "source": [
    "import multiprocessing\n",
    "from gensim.models import Word2Vec"
   ]
  },
  {
   "cell_type": "code",
   "execution_count": 88,
   "metadata": {},
   "outputs": [],
   "source": [
    "cores = multiprocessing.cpu_count() # Count the number of cores in a computer"
   ]
  },
  {
   "cell_type": "code",
   "execution_count": 90,
   "metadata": {},
   "outputs": [
    {
     "name": "stderr",
     "output_type": "stream",
     "text": [
      "D:\\anaconda\\lib\\site-packages\\gensim\\models\\base_any2vec.py:743: UserWarning: C extension not loaded, training will be slow. Install a C compiler and reinstall gensim for fast training.\n",
      "  \"C extension not loaded, training will be slow. \"\n"
     ]
    }
   ],
   "source": [
    "w2v_model = Word2Vec(min_count=20,\n",
    "                     window=2,\n",
    "                     size=300,\n",
    "                     sample=6e-5, \n",
    "                     alpha=0.03, \n",
    "                     min_alpha=0.0007, \n",
    "                     negative=20,\n",
    "                     workers=cores-1)"
   ]
  },
  {
   "cell_type": "code",
   "execution_count": 91,
   "metadata": {},
   "outputs": [
    {
     "data": {
      "text/plain": [
       "<gensim.interfaces.TransformedCorpus at 0x5a0bffba20>"
      ]
     },
     "execution_count": 91,
     "metadata": {},
     "output_type": "execute_result"
    }
   ],
   "source": [
    "sentences"
   ]
  },
  {
   "cell_type": "code",
   "execution_count": 92,
   "metadata": {},
   "outputs": [
    {
     "name": "stderr",
     "output_type": "stream",
     "text": [
      "INFO - 22:40:30: collecting all words and their counts\n",
      "INFO - 22:40:30: PROGRESS: at sentence #0, processed 0 words, keeping 0 word types\n",
      "INFO - 22:40:30: PROGRESS: at sentence #10000, processed 65193 words, keeping 9096 word types\n",
      "INFO - 22:40:31: PROGRESS: at sentence #20000, processed 136024 words, keeping 13916 word types\n",
      "INFO - 22:40:31: PROGRESS: at sentence #30000, processed 201577 words, keeping 16865 word types\n",
      "INFO - 22:40:31: PROGRESS: at sentence #40000, processed 262082 words, keeping 19506 word types\n",
      "INFO - 22:40:31: PROGRESS: at sentence #50000, processed 324069 words, keeping 21758 word types\n",
      "INFO - 22:40:32: PROGRESS: at sentence #60000, processed 388895 words, keeping 23910 word types\n",
      "INFO - 22:40:32: PROGRESS: at sentence #70000, processed 454042 words, keeping 25876 word types\n",
      "INFO - 22:40:32: PROGRESS: at sentence #80000, processed 518929 words, keeping 27769 word types\n",
      "INFO - 22:40:32: PROGRESS: at sentence #90000, processed 584755 words, keeping 29345 word types\n",
      "INFO - 22:40:33: collected 29673 word types from a corpus of 601119 raw words and 92412 sentences\n",
      "INFO - 22:40:33: Loading a fresh vocabulary\n",
      "INFO - 22:40:33: effective_min_count=20 retains 3375 unique words (11% of original 29673, drops 26298)\n",
      "INFO - 22:40:33: effective_min_count=20 leaves 515089 word corpus (85% of original 601119, drops 86030)\n",
      "INFO - 22:40:33: deleting the raw counts dictionary of 29673 items\n",
      "INFO - 22:40:33: sample=6e-05 downsamples 1080 most-common words\n",
      "INFO - 22:40:33: downsampling leaves estimated 219321 word corpus (42.6% of prior 515089)\n",
      "INFO - 22:40:33: estimated required memory for 3375 words and 300 dimensions: 9787500 bytes\n",
      "INFO - 22:40:33: resetting layer weights\n"
     ]
    },
    {
     "name": "stdout",
     "output_type": "stream",
     "text": [
      "Time to build vocab: 0.05 mins\n"
     ]
    }
   ],
   "source": [
    "t = time()\n",
    "\n",
    "w2v_model.build_vocab(sentences, progress_per=10000)\n",
    "\n",
    "print('Time to build vocab: {} mins'.format(round((time() - t) / 60, 2)))"
   ]
  },
  {
   "cell_type": "code",
   "execution_count": 93,
   "metadata": {},
   "outputs": [
    {
     "name": "stderr",
     "output_type": "stream",
     "text": [
      "INFO - 22:49:20: training model with 3 workers on 3375 vocabulary and 300 features, using sg=0 hs=0 sample=6e-05 negative=20 window=2\n",
      "INFO - 22:49:34: EPOCH 1 - PROGRESS: at 1.66% examples, 248 words/s, in_qsize 6, out_qsize 0\n",
      "INFO - 22:49:45: EPOCH 1 - PROGRESS: at 6.42% examples, 575 words/s, in_qsize 5, out_qsize 0\n",
      "INFO - 22:49:57: EPOCH 1 - PROGRESS: at 11.55% examples, 698 words/s, in_qsize 5, out_qsize 0\n",
      "INFO - 22:50:09: EPOCH 1 - PROGRESS: at 16.19% examples, 740 words/s, in_qsize 5, out_qsize 0\n",
      "INFO - 22:50:21: EPOCH 1 - PROGRESS: at 20.82% examples, 769 words/s, in_qsize 6, out_qsize 0\n",
      "INFO - 22:50:35: EPOCH 1 - PROGRESS: at 25.38% examples, 777 words/s, in_qsize 5, out_qsize 0\n",
      "INFO - 22:50:48: EPOCH 1 - PROGRESS: at 30.45% examples, 782 words/s, in_qsize 5, out_qsize 0\n",
      "INFO - 22:51:02: EPOCH 1 - PROGRESS: at 35.62% examples, 782 words/s, in_qsize 6, out_qsize 0\n",
      "INFO - 22:51:14: EPOCH 1 - PROGRESS: at 40.98% examples, 793 words/s, in_qsize 5, out_qsize 0\n",
      "INFO - 22:51:27: EPOCH 1 - PROGRESS: at 46.58% examples, 796 words/s, in_qsize 6, out_qsize 0\n",
      "INFO - 22:51:40: EPOCH 1 - PROGRESS: at 51.75% examples, 804 words/s, in_qsize 5, out_qsize 0\n",
      "INFO - 22:51:41: EPOCH 1 - PROGRESS: at 55.11% examples, 847 words/s, in_qsize 5, out_qsize 0\n",
      "INFO - 22:51:53: EPOCH 1 - PROGRESS: at 56.77% examples, 807 words/s, in_qsize 6, out_qsize 0\n",
      "INFO - 22:52:06: EPOCH 1 - PROGRESS: at 61.73% examples, 810 words/s, in_qsize 5, out_qsize 0\n",
      "INFO - 22:52:19: EPOCH 1 - PROGRESS: at 66.69% examples, 813 words/s, in_qsize 5, out_qsize 0\n",
      "INFO - 22:52:31: EPOCH 1 - PROGRESS: at 71.73% examples, 819 words/s, in_qsize 5, out_qsize 0\n",
      "INFO - 22:52:32: EPOCH 1 - PROGRESS: at 75.05% examples, 854 words/s, in_qsize 5, out_qsize 0\n",
      "INFO - 22:52:43: EPOCH 1 - PROGRESS: at 76.75% examples, 825 words/s, in_qsize 6, out_qsize 0\n",
      "INFO - 22:52:44: EPOCH 1 - PROGRESS: at 80.01% examples, 856 words/s, in_qsize 6, out_qsize 0\n",
      "INFO - 22:52:57: EPOCH 1 - PROGRESS: at 81.64% examples, 824 words/s, in_qsize 5, out_qsize 0\n",
      "INFO - 22:53:09: EPOCH 1 - PROGRESS: at 86.72% examples, 829 words/s, in_qsize 5, out_qsize 0\n",
      "INFO - 22:53:21: EPOCH 1 - PROGRESS: at 91.74% examples, 833 words/s, in_qsize 5, out_qsize 0\n",
      "INFO - 22:53:33: EPOCH 1 - PROGRESS: at 96.63% examples, 838 words/s, in_qsize 3, out_qsize 0\n",
      "INFO - 22:53:33: worker thread finished; awaiting finish of 2 more threads\n",
      "INFO - 22:53:33: worker thread finished; awaiting finish of 1 more threads\n",
      "INFO - 22:53:33: worker thread finished; awaiting finish of 0 more threads\n",
      "INFO - 22:53:33: EPOCH - 1 : training on 601119 raw words (219231 effective words) took 253.4s, 865 effective words/s\n",
      "INFO - 22:53:46: EPOCH 2 - PROGRESS: at 1.66% examples, 277 words/s, in_qsize 6, out_qsize 0\n",
      "INFO - 22:53:59: EPOCH 2 - PROGRESS: at 6.42% examples, 566 words/s, in_qsize 5, out_qsize 0\n",
      "INFO - 22:54:11: EPOCH 2 - PROGRESS: at 11.55% examples, 676 words/s, in_qsize 6, out_qsize 0\n",
      "INFO - 22:54:24: EPOCH 2 - PROGRESS: at 16.19% examples, 726 words/s, in_qsize 6, out_qsize 0\n",
      "INFO - 22:54:36: EPOCH 2 - PROGRESS: at 20.82% examples, 754 words/s, in_qsize 5, out_qsize 0\n",
      "INFO - 22:54:50: EPOCH 2 - PROGRESS: at 25.38% examples, 759 words/s, in_qsize 5, out_qsize 0\n",
      "INFO - 22:55:02: EPOCH 2 - PROGRESS: at 30.45% examples, 780 words/s, in_qsize 5, out_qsize 0\n",
      "INFO - 22:55:15: EPOCH 2 - PROGRESS: at 35.62% examples, 788 words/s, in_qsize 6, out_qsize 0\n",
      "INFO - 22:55:27: EPOCH 2 - PROGRESS: at 40.98% examples, 798 words/s, in_qsize 5, out_qsize 0\n",
      "INFO - 22:55:40: EPOCH 2 - PROGRESS: at 46.58% examples, 803 words/s, in_qsize 5, out_qsize 0\n",
      "INFO - 22:55:41: EPOCH 2 - PROGRESS: at 50.05% examples, 854 words/s, in_qsize 5, out_qsize 0\n",
      "INFO - 22:55:53: EPOCH 2 - PROGRESS: at 51.72% examples, 809 words/s, in_qsize 6, out_qsize 0\n",
      "INFO - 22:55:54: EPOCH 2 - PROGRESS: at 55.11% examples, 852 words/s, in_qsize 6, out_qsize 0\n",
      "INFO - 22:56:07: EPOCH 2 - PROGRESS: at 56.73% examples, 808 words/s, in_qsize 6, out_qsize 0\n",
      "INFO - 22:56:08: EPOCH 2 - PROGRESS: at 60.07% examples, 849 words/s, in_qsize 6, out_qsize 0\n",
      "INFO - 22:56:19: EPOCH 2 - PROGRESS: at 61.73% examples, 813 words/s, in_qsize 5, out_qsize 0\n",
      "INFO - 22:56:21: EPOCH 2 - PROGRESS: at 65.09% examples, 850 words/s, in_qsize 5, out_qsize 0\n",
      "INFO - 22:56:32: EPOCH 2 - PROGRESS: at 66.81% examples, 817 words/s, in_qsize 6, out_qsize 0\n",
      "INFO - 22:56:45: EPOCH 2 - PROGRESS: at 71.75% examples, 821 words/s, in_qsize 5, out_qsize 0\n",
      "INFO - 22:56:46: EPOCH 2 - PROGRESS: at 75.05% examples, 853 words/s, in_qsize 6, out_qsize 0\n",
      "INFO - 22:56:57: EPOCH 2 - PROGRESS: at 76.75% examples, 825 words/s, in_qsize 5, out_qsize 0\n",
      "INFO - 22:56:58: EPOCH 2 - PROGRESS: at 80.01% examples, 856 words/s, in_qsize 6, out_qsize 0\n",
      "INFO - 22:57:10: EPOCH 2 - PROGRESS: at 81.64% examples, 828 words/s, in_qsize 5, out_qsize 0\n",
      "INFO - 22:57:22: EPOCH 2 - PROGRESS: at 86.72% examples, 831 words/s, in_qsize 5, out_qsize 0\n",
      "INFO - 22:57:23: EPOCH 2 - PROGRESS: at 90.09% examples, 860 words/s, in_qsize 5, out_qsize 0\n",
      "INFO - 22:57:34: EPOCH 2 - PROGRESS: at 91.80% examples, 835 words/s, in_qsize 5, out_qsize 0\n",
      "INFO - 22:57:35: EPOCH 2 - PROGRESS: at 95.04% examples, 862 words/s, in_qsize 4, out_qsize 0\n",
      "INFO - 22:57:46: EPOCH 2 - PROGRESS: at 96.63% examples, 838 words/s, in_qsize 3, out_qsize 0\n",
      "INFO - 22:57:47: worker thread finished; awaiting finish of 2 more threads\n",
      "INFO - 22:57:47: worker thread finished; awaiting finish of 1 more threads\n",
      "INFO - 22:57:48: EPOCH 2 - PROGRESS: at 100.00% examples, 865 words/s, in_qsize 0, out_qsize 1\n",
      "INFO - 22:57:48: worker thread finished; awaiting finish of 0 more threads\n",
      "INFO - 22:57:48: EPOCH - 2 : training on 601119 raw words (219913 effective words) took 254.2s, 865 effective words/s\n",
      "INFO - 22:58:00: EPOCH 3 - PROGRESS: at 1.66% examples, 283 words/s, in_qsize 6, out_qsize 0\n",
      "INFO - 22:58:13: EPOCH 3 - PROGRESS: at 6.42% examples, 563 words/s, in_qsize 5, out_qsize 0\n",
      "INFO - 22:58:14: EPOCH 3 - PROGRESS: at 9.96% examples, 819 words/s, in_qsize 5, out_qsize 0\n",
      "INFO - 22:58:27: EPOCH 3 - PROGRESS: at 11.51% examples, 640 words/s, in_qsize 5, out_qsize 0\n",
      "INFO - 22:58:40: EPOCH 3 - PROGRESS: at 16.19% examples, 691 words/s, in_qsize 5, out_qsize 0\n",
      "INFO - 22:58:53: EPOCH 3 - PROGRESS: at 20.82% examples, 724 words/s, in_qsize 5, out_qsize 0\n",
      "INFO - 22:59:05: EPOCH 3 - PROGRESS: at 25.38% examples, 748 words/s, in_qsize 5, out_qsize 0\n",
      "INFO - 22:59:18: EPOCH 3 - PROGRESS: at 30.45% examples, 764 words/s, in_qsize 6, out_qsize 0\n",
      "INFO - 22:59:31: EPOCH 3 - PROGRESS: at 35.62% examples, 775 words/s, in_qsize 6, out_qsize 0\n",
      "INFO - 22:59:32: EPOCH 3 - PROGRESS: at 39.12% examples, 837 words/s, in_qsize 6, out_qsize 0\n",
      "INFO - 22:59:44: EPOCH 3 - PROGRESS: at 40.98% examples, 782 words/s, in_qsize 6, out_qsize 0\n",
      "INFO - 22:59:57: EPOCH 3 - PROGRESS: at 46.58% examples, 784 words/s, in_qsize 5, out_qsize 0\n",
      "INFO - 22:59:58: EPOCH 3 - PROGRESS: at 48.35% examples, 806 words/s, in_qsize 5, out_qsize 0\n",
      "INFO - 23:00:09: EPOCH 3 - PROGRESS: at 51.75% examples, 793 words/s, in_qsize 6, out_qsize 0\n",
      "INFO - 23:00:11: EPOCH 3 - PROGRESS: at 55.11% examples, 837 words/s, in_qsize 5, out_qsize 0\n",
      "INFO - 23:00:22: EPOCH 3 - PROGRESS: at 56.77% examples, 799 words/s, in_qsize 6, out_qsize 0\n",
      "INFO - 23:00:35: EPOCH 3 - PROGRESS: at 61.78% examples, 803 words/s, in_qsize 5, out_qsize 0\n",
      "INFO - 23:00:49: EPOCH 3 - PROGRESS: at 66.69% examples, 804 words/s, in_qsize 5, out_qsize 0\n",
      "INFO - 23:01:01: EPOCH 3 - PROGRESS: at 71.73% examples, 811 words/s, in_qsize 5, out_qsize 0\n",
      "INFO - 23:01:13: EPOCH 3 - PROGRESS: at 76.75% examples, 816 words/s, in_qsize 6, out_qsize 0\n",
      "INFO - 23:01:25: EPOCH 3 - PROGRESS: at 81.64% examples, 821 words/s, in_qsize 6, out_qsize 0\n",
      "INFO - 23:01:37: EPOCH 3 - PROGRESS: at 86.72% examples, 827 words/s, in_qsize 5, out_qsize 0\n",
      "INFO - 23:01:38: EPOCH 3 - PROGRESS: at 90.09% examples, 855 words/s, in_qsize 5, out_qsize 0\n",
      "INFO - 23:01:50: EPOCH 3 - PROGRESS: at 91.80% examples, 827 words/s, in_qsize 5, out_qsize 0\n",
      "INFO - 23:01:51: EPOCH 3 - PROGRESS: at 95.04% examples, 854 words/s, in_qsize 4, out_qsize 0\n",
      "INFO - 23:02:02: EPOCH 3 - PROGRESS: at 96.63% examples, 830 words/s, in_qsize 3, out_qsize 0\n",
      "INFO - 23:02:03: worker thread finished; awaiting finish of 2 more threads\n",
      "INFO - 23:02:03: EPOCH 3 - PROGRESS: at 99.79% examples, 855 words/s, in_qsize 1, out_qsize 1\n",
      "INFO - 23:02:03: worker thread finished; awaiting finish of 1 more threads\n",
      "INFO - 23:02:03: worker thread finished; awaiting finish of 0 more threads\n",
      "INFO - 23:02:03: EPOCH - 3 : training on 601119 raw words (219020 effective words) took 255.6s, 857 effective words/s\n",
      "INFO - 23:02:15: EPOCH 4 - PROGRESS: at 1.66% examples, 291 words/s, in_qsize 6, out_qsize 0\n",
      "INFO - 23:02:27: EPOCH 4 - PROGRESS: at 6.42% examples, 613 words/s, in_qsize 6, out_qsize 0\n",
      "INFO - 23:02:39: EPOCH 4 - PROGRESS: at 11.55% examples, 721 words/s, in_qsize 5, out_qsize 0\n",
      "INFO - 23:02:51: EPOCH 4 - PROGRESS: at 16.19% examples, 760 words/s, in_qsize 6, out_qsize 0\n",
      "INFO - 23:03:03: EPOCH 4 - PROGRESS: at 20.71% examples, 791 words/s, in_qsize 6, out_qsize 0\n",
      "INFO - 23:03:15: EPOCH 4 - PROGRESS: at 25.38% examples, 810 words/s, in_qsize 6, out_qsize 0\n",
      "INFO - 23:03:27: EPOCH 4 - PROGRESS: at 30.45% examples, 819 words/s, in_qsize 6, out_qsize 0\n",
      "INFO - 23:03:41: EPOCH 4 - PROGRESS: at 35.62% examples, 818 words/s, in_qsize 6, out_qsize 0\n",
      "INFO - 23:03:52: EPOCH 4 - PROGRESS: at 40.98% examples, 830 words/s, in_qsize 6, out_qsize 0\n",
      "INFO - 23:04:05: EPOCH 4 - PROGRESS: at 46.58% examples, 833 words/s, in_qsize 5, out_qsize 0\n",
      "INFO - 23:04:17: EPOCH 4 - PROGRESS: at 51.75% examples, 839 words/s, in_qsize 5, out_qsize 0\n",
      "INFO - 23:04:29: EPOCH 4 - PROGRESS: at 56.73% examples, 847 words/s, in_qsize 5, out_qsize 0\n",
      "INFO - 23:04:40: EPOCH 4 - PROGRESS: at 61.73% examples, 856 words/s, in_qsize 5, out_qsize 0\n",
      "INFO - 23:04:52: EPOCH 4 - PROGRESS: at 66.81% examples, 862 words/s, in_qsize 5, out_qsize 0\n",
      "INFO - 23:05:04: EPOCH 4 - PROGRESS: at 71.73% examples, 867 words/s, in_qsize 5, out_qsize 0\n",
      "INFO - 23:05:17: EPOCH 4 - PROGRESS: at 76.68% examples, 867 words/s, in_qsize 6, out_qsize 0\n",
      "INFO - 23:05:31: EPOCH 4 - PROGRESS: at 81.64% examples, 860 words/s, in_qsize 6, out_qsize 0\n",
      "INFO - 23:05:44: EPOCH 4 - PROGRESS: at 86.69% examples, 858 words/s, in_qsize 5, out_qsize 0\n",
      "INFO - 23:05:46: EPOCH 4 - PROGRESS: at 90.09% examples, 887 words/s, in_qsize 6, out_qsize 0\n",
      "INFO - 23:05:57: EPOCH 4 - PROGRESS: at 91.80% examples, 860 words/s, in_qsize 5, out_qsize 0\n",
      "INFO - 23:06:12: EPOCH 4 - PROGRESS: at 96.63% examples, 851 words/s, in_qsize 3, out_qsize 0\n",
      "INFO - 23:06:12: worker thread finished; awaiting finish of 2 more threads\n",
      "INFO - 23:06:13: worker thread finished; awaiting finish of 1 more threads\n",
      "INFO - 23:06:13: EPOCH 4 - PROGRESS: at 100.00% examples, 877 words/s, in_qsize 0, out_qsize 1\n",
      "INFO - 23:06:13: worker thread finished; awaiting finish of 0 more threads\n",
      "INFO - 23:06:13: EPOCH - 4 : training on 601119 raw words (219370 effective words) took 250.0s, 877 effective words/s\n",
      "INFO - 23:06:27: EPOCH 5 - PROGRESS: at 1.66% examples, 258 words/s, in_qsize 6, out_qsize 0\n",
      "INFO - 23:06:40: EPOCH 5 - PROGRESS: at 6.42% examples, 547 words/s, in_qsize 6, out_qsize 0\n",
      "INFO - 23:06:53: EPOCH 5 - PROGRESS: at 11.51% examples, 640 words/s, in_qsize 6, out_qsize 0\n",
      "INFO - 23:07:05: EPOCH 5 - PROGRESS: at 16.19% examples, 703 words/s, in_qsize 5, out_qsize 0\n",
      "INFO - 23:07:18: EPOCH 5 - PROGRESS: at 20.82% examples, 734 words/s, in_qsize 6, out_qsize 0\n",
      "INFO - 23:07:30: EPOCH 5 - PROGRESS: at 25.38% examples, 760 words/s, in_qsize 5, out_qsize 0\n",
      "INFO - 23:07:42: EPOCH 5 - PROGRESS: at 30.45% examples, 776 words/s, in_qsize 6, out_qsize 0\n",
      "INFO - 23:07:54: EPOCH 5 - PROGRESS: at 35.62% examples, 796 words/s, in_qsize 6, out_qsize 0\n",
      "INFO - 23:08:05: EPOCH 5 - PROGRESS: at 40.98% examples, 812 words/s, in_qsize 5, out_qsize 0\n",
      "INFO - 23:08:17: EPOCH 5 - PROGRESS: at 46.58% examples, 825 words/s, in_qsize 5, out_qsize 0\n",
      "INFO - 23:08:28: EPOCH 5 - PROGRESS: at 51.72% examples, 834 words/s, in_qsize 5, out_qsize 0\n",
      "INFO - 23:08:40: EPOCH 5 - PROGRESS: at 56.73% examples, 841 words/s, in_qsize 6, out_qsize 0\n",
      "INFO - 23:08:52: EPOCH 5 - PROGRESS: at 61.73% examples, 850 words/s, in_qsize 6, out_qsize 0\n",
      "INFO - 23:09:03: EPOCH 5 - PROGRESS: at 66.76% examples, 858 words/s, in_qsize 5, out_qsize 0\n",
      "INFO - 23:09:15: EPOCH 5 - PROGRESS: at 71.73% examples, 865 words/s, in_qsize 6, out_qsize 0\n",
      "INFO - 23:09:26: EPOCH 5 - PROGRESS: at 76.75% examples, 870 words/s, in_qsize 5, out_qsize 0\n",
      "INFO - 23:09:38: EPOCH 5 - PROGRESS: at 81.64% examples, 875 words/s, in_qsize 6, out_qsize 0\n",
      "INFO - 23:09:50: EPOCH 5 - PROGRESS: at 86.69% examples, 878 words/s, in_qsize 6, out_qsize 0\n",
      "INFO - 23:10:01: EPOCH 5 - PROGRESS: at 91.80% examples, 884 words/s, in_qsize 5, out_qsize 0\n",
      "INFO - 23:10:12: EPOCH 5 - PROGRESS: at 96.63% examples, 890 words/s, in_qsize 3, out_qsize 0\n",
      "INFO - 23:10:12: worker thread finished; awaiting finish of 2 more threads\n",
      "INFO - 23:10:12: worker thread finished; awaiting finish of 1 more threads\n",
      "INFO - 23:10:12: worker thread finished; awaiting finish of 0 more threads\n",
      "INFO - 23:10:12: EPOCH - 5 : training on 601119 raw words (219540 effective words) took 238.8s, 919 effective words/s\n",
      "INFO - 23:10:24: EPOCH 6 - PROGRESS: at 1.66% examples, 310 words/s, in_qsize 5, out_qsize 0\n",
      "INFO - 23:10:35: EPOCH 6 - PROGRESS: at 6.42% examples, 635 words/s, in_qsize 5, out_qsize 0\n",
      "INFO - 23:10:36: EPOCH 6 - PROGRESS: at 9.96% examples, 922 words/s, in_qsize 5, out_qsize 0\n",
      "INFO - 23:10:47: EPOCH 6 - PROGRESS: at 11.55% examples, 738 words/s, in_qsize 5, out_qsize 0\n",
      "INFO - 23:10:58: EPOCH 6 - PROGRESS: at 16.19% examples, 791 words/s, in_qsize 5, out_qsize 0\n",
      "INFO - 23:10:59: EPOCH 6 - PROGRESS: at 19.27% examples, 929 words/s, in_qsize 5, out_qsize 0\n",
      "INFO - 23:11:10: EPOCH 6 - PROGRESS: at 20.71% examples, 811 words/s, in_qsize 6, out_qsize 0\n",
      "INFO - 23:11:23: EPOCH 6 - PROGRESS: at 25.38% examples, 822 words/s, in_qsize 6, out_qsize 0\n",
      "INFO - 23:11:34: EPOCH 6 - PROGRESS: at 30.45% examples, 834 words/s, in_qsize 6, out_qsize 0\n",
      "INFO - 23:11:46: EPOCH 6 - PROGRESS: at 35.62% examples, 846 words/s, in_qsize 6, out_qsize 0\n",
      "INFO - 23:11:58: EPOCH 6 - PROGRESS: at 40.98% examples, 855 words/s, in_qsize 6, out_qsize 0\n",
      "INFO - 23:12:09: EPOCH 6 - PROGRESS: at 46.58% examples, 864 words/s, in_qsize 5, out_qsize 0\n",
      "INFO - 23:12:21: EPOCH 6 - PROGRESS: at 51.75% examples, 870 words/s, in_qsize 5, out_qsize 0\n",
      "INFO - 23:12:22: EPOCH 6 - PROGRESS: at 55.11% examples, 919 words/s, in_qsize 5, out_qsize 0\n",
      "INFO - 23:12:33: EPOCH 6 - PROGRESS: at 56.73% examples, 874 words/s, in_qsize 6, out_qsize 0\n",
      "INFO - 23:12:34: EPOCH 6 - PROGRESS: at 60.07% examples, 919 words/s, in_qsize 5, out_qsize 0\n",
      "INFO - 23:12:45: EPOCH 6 - PROGRESS: at 61.73% examples, 878 words/s, in_qsize 6, out_qsize 0\n",
      "INFO - 23:12:46: EPOCH 6 - PROGRESS: at 65.09% examples, 918 words/s, in_qsize 5, out_qsize 0\n",
      "INFO - 23:13:00: EPOCH 6 - PROGRESS: at 66.81% examples, 867 words/s, in_qsize 6, out_qsize 0\n",
      "INFO - 23:13:01: EPOCH 6 - PROGRESS: at 70.09% examples, 902 words/s, in_qsize 5, out_qsize 0\n",
      "INFO - 23:13:15: EPOCH 6 - PROGRESS: at 71.73% examples, 854 words/s, in_qsize 6, out_qsize 0\n",
      "INFO - 23:13:17: EPOCH 6 - PROGRESS: at 75.05% examples, 884 words/s, in_qsize 5, out_qsize 0\n",
      "INFO - 23:13:30: EPOCH 6 - PROGRESS: at 76.68% examples, 847 words/s, in_qsize 6, out_qsize 0\n",
      "INFO - 23:13:31: EPOCH 6 - PROGRESS: at 78.38% examples, 862 words/s, in_qsize 6, out_qsize 0\n",
      "INFO - 23:13:44: EPOCH 6 - PROGRESS: at 81.64% examples, 841 words/s, in_qsize 5, out_qsize 0\n",
      "INFO - 23:13:45: EPOCH 6 - PROGRESS: at 83.31% examples, 853 words/s, in_qsize 5, out_qsize 0\n",
      "INFO - 23:13:59: EPOCH 6 - PROGRESS: at 86.72% examples, 836 words/s, in_qsize 5, out_qsize 0\n",
      "INFO - 23:14:00: EPOCH 6 - PROGRESS: at 88.44% examples, 847 words/s, in_qsize 5, out_qsize 0\n",
      "INFO - 23:14:13: EPOCH 6 - PROGRESS: at 91.80% examples, 832 words/s, in_qsize 5, out_qsize 0\n",
      "INFO - 23:14:14: EPOCH 6 - PROGRESS: at 93.44% examples, 842 words/s, in_qsize 5, out_qsize 0\n",
      "INFO - 23:14:26: EPOCH 6 - PROGRESS: at 96.63% examples, 831 words/s, in_qsize 3, out_qsize 0\n",
      "INFO - 23:14:28: EPOCH 6 - PROGRESS: at 98.21% examples, 839 words/s, in_qsize 2, out_qsize 1\n",
      "INFO - 23:14:28: worker thread finished; awaiting finish of 2 more threads\n"
     ]
    },
    {
     "name": "stderr",
     "output_type": "stream",
     "text": [
      "INFO - 23:14:28: worker thread finished; awaiting finish of 1 more threads\n",
      "INFO - 23:14:28: worker thread finished; awaiting finish of 0 more threads\n",
      "INFO - 23:14:28: EPOCH - 6 : training on 601119 raw words (218947 effective words) took 256.1s, 855 effective words/s\n",
      "INFO - 23:14:43: EPOCH 7 - PROGRESS: at 1.66% examples, 245 words/s, in_qsize 6, out_qsize 0\n",
      "INFO - 23:14:56: EPOCH 7 - PROGRESS: at 6.42% examples, 513 words/s, in_qsize 6, out_qsize 0\n",
      "INFO - 23:14:58: EPOCH 7 - PROGRESS: at 8.21% examples, 620 words/s, in_qsize 6, out_qsize 0\n",
      "INFO - 23:15:11: EPOCH 7 - PROGRESS: at 11.55% examples, 597 words/s, in_qsize 5, out_qsize 0\n",
      "INFO - 23:15:13: EPOCH 7 - PROGRESS: at 14.61% examples, 743 words/s, in_qsize 5, out_qsize 0\n",
      "INFO - 23:15:25: EPOCH 7 - PROGRESS: at 16.19% examples, 638 words/s, in_qsize 5, out_qsize 0\n",
      "INFO - 23:15:27: EPOCH 7 - PROGRESS: at 19.27% examples, 746 words/s, in_qsize 6, out_qsize 0\n",
      "INFO - 23:15:40: EPOCH 7 - PROGRESS: at 20.71% examples, 665 words/s, in_qsize 6, out_qsize 0\n",
      "INFO - 23:15:54: EPOCH 7 - PROGRESS: at 25.38% examples, 680 words/s, in_qsize 5, out_qsize 0\n",
      "INFO - 23:16:08: EPOCH 7 - PROGRESS: at 30.45% examples, 692 words/s, in_qsize 6, out_qsize 0\n",
      "INFO - 23:16:09: EPOCH 7 - PROGRESS: at 33.89% examples, 759 words/s, in_qsize 6, out_qsize 0\n",
      "INFO - 23:16:22: EPOCH 7 - PROGRESS: at 35.65% examples, 700 words/s, in_qsize 6, out_qsize 0\n",
      "INFO - 23:16:24: EPOCH 7 - PROGRESS: at 39.12% examples, 756 words/s, in_qsize 5, out_qsize 0\n",
      "INFO - 23:16:37: EPOCH 7 - PROGRESS: at 40.98% examples, 708 words/s, in_qsize 5, out_qsize 0\n",
      "INFO - 23:16:38: EPOCH 7 - PROGRESS: at 44.72% examples, 756 words/s, in_qsize 6, out_qsize 0\n",
      "INFO - 23:16:51: EPOCH 7 - PROGRESS: at 46.58% examples, 713 words/s, in_qsize 5, out_qsize 0\n",
      "INFO - 23:16:52: EPOCH 7 - PROGRESS: at 50.05% examples, 756 words/s, in_qsize 5, out_qsize 0\n",
      "INFO - 23:17:05: EPOCH 7 - PROGRESS: at 51.72% examples, 716 words/s, in_qsize 6, out_qsize 0\n",
      "INFO - 23:17:07: EPOCH 7 - PROGRESS: at 55.11% examples, 757 words/s, in_qsize 6, out_qsize 0\n",
      "INFO - 23:17:19: EPOCH 7 - PROGRESS: at 56.73% examples, 722 words/s, in_qsize 5, out_qsize 0\n",
      "INFO - 23:17:34: EPOCH 7 - PROGRESS: at 61.73% examples, 724 words/s, in_qsize 6, out_qsize 0\n",
      "INFO - 23:17:48: EPOCH 7 - PROGRESS: at 66.76% examples, 727 words/s, in_qsize 5, out_qsize 0\n",
      "INFO - 23:18:03: EPOCH 7 - PROGRESS: at 71.73% examples, 729 words/s, in_qsize 6, out_qsize 0\n",
      "INFO - 23:18:17: EPOCH 7 - PROGRESS: at 76.68% examples, 732 words/s, in_qsize 5, out_qsize 0\n",
      "INFO - 23:18:32: EPOCH 7 - PROGRESS: at 81.64% examples, 733 words/s, in_qsize 5, out_qsize 0\n",
      "INFO - 23:18:45: EPOCH 7 - PROGRESS: at 86.69% examples, 736 words/s, in_qsize 5, out_qsize 0\n",
      "INFO - 23:18:47: EPOCH 7 - PROGRESS: at 90.09% examples, 762 words/s, in_qsize 5, out_qsize 0\n",
      "INFO - 23:18:59: EPOCH 7 - PROGRESS: at 91.80% examples, 740 words/s, in_qsize 5, out_qsize 0\n",
      "INFO - 23:19:00: EPOCH 7 - PROGRESS: at 95.04% examples, 764 words/s, in_qsize 4, out_qsize 0\n",
      "INFO - 23:19:13: EPOCH 7 - PROGRESS: at 96.63% examples, 743 words/s, in_qsize 3, out_qsize 0\n",
      "INFO - 23:19:14: EPOCH 7 - PROGRESS: at 98.21% examples, 752 words/s, in_qsize 2, out_qsize 1\n",
      "INFO - 23:19:14: worker thread finished; awaiting finish of 2 more threads\n",
      "INFO - 23:19:14: worker thread finished; awaiting finish of 1 more threads\n",
      "INFO - 23:19:14: worker thread finished; awaiting finish of 0 more threads\n",
      "INFO - 23:19:14: EPOCH - 7 : training on 601119 raw words (218916 effective words) took 285.8s, 766 effective words/s\n",
      "INFO - 23:19:29: EPOCH 8 - PROGRESS: at 1.66% examples, 246 words/s, in_qsize 6, out_qsize 0\n",
      "INFO - 23:19:43: EPOCH 8 - PROGRESS: at 6.42% examples, 505 words/s, in_qsize 6, out_qsize 0\n",
      "INFO - 23:19:57: EPOCH 8 - PROGRESS: at 11.51% examples, 590 words/s, in_qsize 5, out_qsize 0\n",
      "INFO - 23:20:11: EPOCH 8 - PROGRESS: at 16.19% examples, 639 words/s, in_qsize 5, out_qsize 0\n",
      "INFO - 23:20:25: EPOCH 8 - PROGRESS: at 20.82% examples, 663 words/s, in_qsize 6, out_qsize 0\n",
      "INFO - 23:20:39: EPOCH 8 - PROGRESS: at 25.38% examples, 678 words/s, in_qsize 5, out_qsize 0\n",
      "INFO - 23:20:54: EPOCH 8 - PROGRESS: at 30.45% examples, 687 words/s, in_qsize 6, out_qsize 0\n",
      "INFO - 23:21:08: EPOCH 8 - PROGRESS: at 35.62% examples, 699 words/s, in_qsize 6, out_qsize 0\n",
      "INFO - 23:21:09: EPOCH 8 - PROGRESS: at 39.12% examples, 755 words/s, in_qsize 5, out_qsize 0\n",
      "INFO - 23:21:22: EPOCH 8 - PROGRESS: at 40.98% examples, 709 words/s, in_qsize 6, out_qsize 0\n",
      "INFO - 23:21:23: EPOCH 8 - PROGRESS: at 44.72% examples, 758 words/s, in_qsize 6, out_qsize 0\n",
      "INFO - 23:21:36: EPOCH 8 - PROGRESS: at 46.58% examples, 715 words/s, in_qsize 5, out_qsize 0\n",
      "INFO - 23:21:37: EPOCH 8 - PROGRESS: at 50.05% examples, 760 words/s, in_qsize 5, out_qsize 0\n",
      "INFO - 23:21:50: EPOCH 8 - PROGRESS: at 51.75% examples, 719 words/s, in_qsize 5, out_qsize 0\n",
      "INFO - 23:21:52: EPOCH 8 - PROGRESS: at 55.11% examples, 759 words/s, in_qsize 6, out_qsize 0\n",
      "INFO - 23:22:05: EPOCH 8 - PROGRESS: at 56.73% examples, 723 words/s, in_qsize 5, out_qsize 0\n",
      "INFO - 23:22:19: EPOCH 8 - PROGRESS: at 61.78% examples, 726 words/s, in_qsize 5, out_qsize 0\n",
      "INFO - 23:22:34: EPOCH 8 - PROGRESS: at 66.76% examples, 729 words/s, in_qsize 5, out_qsize 0\n",
      "INFO - 23:22:48: EPOCH 8 - PROGRESS: at 71.73% examples, 731 words/s, in_qsize 5, out_qsize 0\n",
      "INFO - 23:22:49: EPOCH 8 - PROGRESS: at 75.05% examples, 762 words/s, in_qsize 6, out_qsize 0\n",
      "INFO - 23:23:03: EPOCH 8 - PROGRESS: at 76.75% examples, 732 words/s, in_qsize 6, out_qsize 0\n",
      "INFO - 23:23:17: EPOCH 8 - PROGRESS: at 81.64% examples, 733 words/s, in_qsize 6, out_qsize 0\n",
      "INFO - 23:23:32: EPOCH 8 - PROGRESS: at 86.69% examples, 735 words/s, in_qsize 5, out_qsize 0\n",
      "INFO - 23:23:46: EPOCH 8 - PROGRESS: at 91.80% examples, 738 words/s, in_qsize 5, out_qsize 0\n",
      "INFO - 23:24:00: EPOCH 8 - PROGRESS: at 96.63% examples, 739 words/s, in_qsize 3, out_qsize 0\n",
      "INFO - 23:24:01: worker thread finished; awaiting finish of 2 more threads\n",
      "INFO - 23:24:01: worker thread finished; awaiting finish of 1 more threads\n",
      "INFO - 23:24:01: worker thread finished; awaiting finish of 0 more threads\n",
      "INFO - 23:24:01: EPOCH - 8 : training on 601119 raw words (219213 effective words) took 287.2s, 763 effective words/s\n",
      "INFO - 23:24:16: EPOCH 9 - PROGRESS: at 1.66% examples, 246 words/s, in_qsize 6, out_qsize 0\n",
      "INFO - 23:24:30: EPOCH 9 - PROGRESS: at 6.42% examples, 509 words/s, in_qsize 5, out_qsize 0\n",
      "INFO - 23:24:31: EPOCH 9 - PROGRESS: at 9.96% examples, 736 words/s, in_qsize 5, out_qsize 0\n",
      "INFO - 23:24:45: EPOCH 9 - PROGRESS: at 11.55% examples, 593 words/s, in_qsize 5, out_qsize 0\n",
      "INFO - 23:24:59: EPOCH 9 - PROGRESS: at 16.19% examples, 637 words/s, in_qsize 5, out_qsize 0\n",
      "INFO - 23:25:00: EPOCH 9 - PROGRESS: at 19.27% examples, 750 words/s, in_qsize 6, out_qsize 0\n",
      "INFO - 23:25:13: EPOCH 9 - PROGRESS: at 20.71% examples, 662 words/s, in_qsize 6, out_qsize 0\n",
      "INFO - 23:25:27: EPOCH 9 - PROGRESS: at 25.38% examples, 679 words/s, in_qsize 5, out_qsize 0\n",
      "INFO - 23:25:41: EPOCH 9 - PROGRESS: at 30.45% examples, 692 words/s, in_qsize 6, out_qsize 0\n",
      "INFO - 23:25:55: EPOCH 9 - PROGRESS: at 35.65% examples, 705 words/s, in_qsize 6, out_qsize 0\n",
      "INFO - 23:26:09: EPOCH 9 - PROGRESS: at 40.98% examples, 711 words/s, in_qsize 6, out_qsize 0\n",
      "INFO - 23:26:23: EPOCH 9 - PROGRESS: at 46.58% examples, 716 words/s, in_qsize 5, out_qsize 0\n",
      "INFO - 23:26:37: EPOCH 9 - PROGRESS: at 51.72% examples, 722 words/s, in_qsize 5, out_qsize 0\n",
      "INFO - 23:26:39: EPOCH 9 - PROGRESS: at 55.11% examples, 762 words/s, in_qsize 6, out_qsize 0\n",
      "INFO - 23:26:52: EPOCH 9 - PROGRESS: at 56.73% examples, 725 words/s, in_qsize 5, out_qsize 0\n",
      "INFO - 23:26:53: EPOCH 9 - PROGRESS: at 60.07% examples, 762 words/s, in_qsize 5, out_qsize 0\n",
      "INFO - 23:27:07: EPOCH 9 - PROGRESS: at 61.78% examples, 726 words/s, in_qsize 5, out_qsize 0\n",
      "INFO - 23:27:08: EPOCH 9 - PROGRESS: at 65.09% examples, 762 words/s, in_qsize 5, out_qsize 0\n",
      "INFO - 23:27:22: EPOCH 9 - PROGRESS: at 66.76% examples, 728 words/s, in_qsize 5, out_qsize 0\n",
      "INFO - 23:27:36: EPOCH 9 - PROGRESS: at 71.73% examples, 732 words/s, in_qsize 6, out_qsize 0\n",
      "INFO - 23:27:37: EPOCH 9 - PROGRESS: at 75.05% examples, 762 words/s, in_qsize 6, out_qsize 0\n",
      "INFO - 23:27:50: EPOCH 9 - PROGRESS: at 76.75% examples, 735 words/s, in_qsize 6, out_qsize 0\n",
      "INFO - 23:27:51: EPOCH 9 - PROGRESS: at 80.01% examples, 764 words/s, in_qsize 5, out_qsize 0\n",
      "INFO - 23:28:04: EPOCH 9 - PROGRESS: at 81.64% examples, 737 words/s, in_qsize 5, out_qsize 0\n",
      "INFO - 23:28:18: EPOCH 9 - PROGRESS: at 86.72% examples, 739 words/s, in_qsize 5, out_qsize 0\n",
      "INFO - 23:28:32: EPOCH 9 - PROGRESS: at 91.80% examples, 742 words/s, in_qsize 5, out_qsize 0\n",
      "INFO - 23:28:46: EPOCH 9 - PROGRESS: at 96.63% examples, 745 words/s, in_qsize 3, out_qsize 0\n",
      "INFO - 23:28:46: worker thread finished; awaiting finish of 2 more threads\n",
      "INFO - 23:28:46: worker thread finished; awaiting finish of 1 more threads\n",
      "INFO - 23:28:47: worker thread finished; awaiting finish of 0 more threads\n",
      "INFO - 23:28:47: EPOCH - 9 : training on 601119 raw words (219480 effective words) took 285.4s, 769 effective words/s\n",
      "INFO - 23:29:01: EPOCH 10 - PROGRESS: at 1.66% examples, 250 words/s, in_qsize 5, out_qsize 0\n",
      "INFO - 23:29:15: EPOCH 10 - PROGRESS: at 6.42% examples, 516 words/s, in_qsize 6, out_qsize 0\n",
      "INFO - 23:29:16: EPOCH 10 - PROGRESS: at 8.21% examples, 624 words/s, in_qsize 6, out_qsize 0\n",
      "INFO - 23:29:30: EPOCH 10 - PROGRESS: at 11.55% examples, 594 words/s, in_qsize 6, out_qsize 0\n",
      "INFO - 23:29:31: EPOCH 10 - PROGRESS: at 14.61% examples, 744 words/s, in_qsize 5, out_qsize 0\n",
      "INFO - 23:29:45: EPOCH 10 - PROGRESS: at 16.19% examples, 633 words/s, in_qsize 5, out_qsize 0\n",
      "INFO - 23:29:46: EPOCH 10 - PROGRESS: at 19.27% examples, 744 words/s, in_qsize 5, out_qsize 0\n",
      "INFO - 23:29:59: EPOCH 10 - PROGRESS: at 20.82% examples, 660 words/s, in_qsize 6, out_qsize 0\n",
      "INFO - 23:30:13: EPOCH 10 - PROGRESS: at 25.38% examples, 679 words/s, in_qsize 5, out_qsize 0\n",
      "INFO - 23:30:14: EPOCH 10 - PROGRESS: at 28.77% examples, 753 words/s, in_qsize 5, out_qsize 0\n",
      "INFO - 23:30:26: EPOCH 10 - PROGRESS: at 30.45% examples, 694 words/s, in_qsize 5, out_qsize 0\n",
      "INFO - 23:30:27: EPOCH 10 - PROGRESS: at 32.18% examples, 722 words/s, in_qsize 6, out_qsize 0\n",
      "INFO - 23:30:41: EPOCH 10 - PROGRESS: at 35.62% examples, 700 words/s, in_qsize 6, out_qsize 0\n",
      "INFO - 23:30:42: EPOCH 10 - PROGRESS: at 39.12% examples, 756 words/s, in_qsize 5, out_qsize 0\n",
      "INFO - 23:30:55: EPOCH 10 - PROGRESS: at 40.98% examples, 707 words/s, in_qsize 6, out_qsize 0\n",
      "INFO - 23:30:56: EPOCH 10 - PROGRESS: at 44.72% examples, 756 words/s, in_qsize 6, out_qsize 0\n",
      "INFO - 23:31:09: EPOCH 10 - PROGRESS: at 46.58% examples, 712 words/s, in_qsize 5, out_qsize 0\n",
      "INFO - 23:31:11: EPOCH 10 - PROGRESS: at 48.28% examples, 732 words/s, in_qsize 5, out_qsize 0\n",
      "INFO - 23:31:24: EPOCH 10 - PROGRESS: at 51.75% examples, 717 words/s, in_qsize 6, out_qsize 0\n",
      "INFO - 23:31:26: EPOCH 10 - PROGRESS: at 55.11% examples, 755 words/s, in_qsize 5, out_qsize 0\n",
      "INFO - 23:31:39: EPOCH 10 - PROGRESS: at 56.73% examples, 717 words/s, in_qsize 5, out_qsize 0\n",
      "INFO - 23:31:54: EPOCH 10 - PROGRESS: at 61.78% examples, 721 words/s, in_qsize 5, out_qsize 0\n",
      "INFO - 23:32:08: EPOCH 10 - PROGRESS: at 66.76% examples, 725 words/s, in_qsize 5, out_qsize 0\n",
      "INFO - 23:32:22: EPOCH 10 - PROGRESS: at 71.73% examples, 728 words/s, in_qsize 6, out_qsize 0\n",
      "INFO - 23:32:37: EPOCH 10 - PROGRESS: at 76.75% examples, 730 words/s, in_qsize 6, out_qsize 0\n",
      "INFO - 23:32:51: EPOCH 10 - PROGRESS: at 81.68% examples, 733 words/s, in_qsize 6, out_qsize 0\n",
      "INFO - 23:33:05: EPOCH 10 - PROGRESS: at 86.69% examples, 735 words/s, in_qsize 5, out_qsize 0\n",
      "INFO - 23:33:19: EPOCH 10 - PROGRESS: at 91.80% examples, 737 words/s, in_qsize 5, out_qsize 0\n",
      "INFO - 23:33:33: EPOCH 10 - PROGRESS: at 96.63% examples, 740 words/s, in_qsize 3, out_qsize 0\n",
      "INFO - 23:33:34: worker thread finished; awaiting finish of 2 more threads\n",
      "INFO - 23:33:34: worker thread finished; awaiting finish of 1 more threads\n",
      "INFO - 23:33:34: worker thread finished; awaiting finish of 0 more threads\n",
      "INFO - 23:33:34: EPOCH - 10 : training on 601119 raw words (219583 effective words) took 287.3s, 764 effective words/s\n",
      "INFO - 23:33:48: EPOCH 11 - PROGRESS: at 1.59% examples, 246 words/s, in_qsize 5, out_qsize 0\n",
      "INFO - 23:34:02: EPOCH 11 - PROGRESS: at 6.42% examples, 504 words/s, in_qsize 6, out_qsize 0\n",
      "INFO - 23:34:17: EPOCH 11 - PROGRESS: at 11.51% examples, 592 words/s, in_qsize 5, out_qsize 0\n",
      "INFO - 23:34:31: EPOCH 11 - PROGRESS: at 16.19% examples, 638 words/s, in_qsize 5, out_qsize 0\n",
      "INFO - 23:34:45: EPOCH 11 - PROGRESS: at 20.82% examples, 667 words/s, in_qsize 6, out_qsize 0\n",
      "INFO - 23:34:59: EPOCH 11 - PROGRESS: at 25.38% examples, 682 words/s, in_qsize 5, out_qsize 0\n",
      "INFO - 23:35:13: EPOCH 11 - PROGRESS: at 30.45% examples, 695 words/s, in_qsize 6, out_qsize 0\n",
      "INFO - 23:35:27: EPOCH 11 - PROGRESS: at 35.65% examples, 706 words/s, in_qsize 6, out_qsize 0\n",
      "INFO - 23:35:41: EPOCH 11 - PROGRESS: at 40.98% examples, 715 words/s, in_qsize 6, out_qsize 0\n",
      "INFO - 23:35:54: EPOCH 11 - PROGRESS: at 46.58% examples, 720 words/s, in_qsize 5, out_qsize 0\n",
      "INFO - 23:36:09: EPOCH 11 - PROGRESS: at 51.75% examples, 724 words/s, in_qsize 6, out_qsize 0\n",
      "INFO - 23:36:10: EPOCH 11 - PROGRESS: at 55.11% examples, 766 words/s, in_qsize 5, out_qsize 0\n",
      "INFO - 23:36:24: EPOCH 11 - PROGRESS: at 56.73% examples, 727 words/s, in_qsize 5, out_qsize 0\n",
      "INFO - 23:36:38: EPOCH 11 - PROGRESS: at 61.73% examples, 730 words/s, in_qsize 5, out_qsize 0\n",
      "INFO - 23:36:52: EPOCH 11 - PROGRESS: at 66.69% examples, 733 words/s, in_qsize 5, out_qsize 0\n",
      "INFO - 23:36:53: EPOCH 11 - PROGRESS: at 70.09% examples, 767 words/s, in_qsize 5, out_qsize 0\n",
      "INFO - 23:37:06: EPOCH 11 - PROGRESS: at 71.73% examples, 737 words/s, in_qsize 6, out_qsize 0\n",
      "INFO - 23:37:08: EPOCH 11 - PROGRESS: at 75.05% examples, 765 words/s, in_qsize 6, out_qsize 0\n",
      "INFO - 23:37:21: EPOCH 11 - PROGRESS: at 76.68% examples, 738 words/s, in_qsize 5, out_qsize 0\n",
      "INFO - 23:37:23: EPOCH 11 - PROGRESS: at 80.01% examples, 765 words/s, in_qsize 6, out_qsize 0\n",
      "INFO - 23:37:36: EPOCH 11 - PROGRESS: at 81.64% examples, 738 words/s, in_qsize 5, out_qsize 0\n",
      "INFO - 23:37:51: EPOCH 11 - PROGRESS: at 86.69% examples, 739 words/s, in_qsize 5, out_qsize 0\n",
      "INFO - 23:38:05: EPOCH 11 - PROGRESS: at 91.80% examples, 742 words/s, in_qsize 5, out_qsize 0\n",
      "INFO - 23:38:18: EPOCH 11 - PROGRESS: at 96.63% examples, 744 words/s, in_qsize 3, out_qsize 0\n",
      "INFO - 23:38:18: worker thread finished; awaiting finish of 2 more threads\n",
      "INFO - 23:38:18: worker thread finished; awaiting finish of 1 more threads\n",
      "INFO - 23:38:19: worker thread finished; awaiting finish of 0 more threads\n",
      "INFO - 23:38:19: EPOCH - 11 : training on 601119 raw words (219147 effective words) took 284.7s, 770 effective words/s\n",
      "INFO - 23:38:33: EPOCH 12 - PROGRESS: at 1.66% examples, 248 words/s, in_qsize 6, out_qsize 0\n",
      "INFO - 23:38:47: EPOCH 12 - PROGRESS: at 6.42% examples, 511 words/s, in_qsize 6, out_qsize 0\n",
      "INFO - 23:39:01: EPOCH 12 - PROGRESS: at 11.51% examples, 597 words/s, in_qsize 5, out_qsize 0\n",
      "INFO - 23:39:02: EPOCH 12 - PROGRESS: at 14.61% examples, 753 words/s, in_qsize 5, out_qsize 0\n",
      "INFO - 23:39:15: EPOCH 12 - PROGRESS: at 16.19% examples, 642 words/s, in_qsize 6, out_qsize 0\n",
      "INFO - 23:39:17: EPOCH 12 - PROGRESS: at 19.27% examples, 750 words/s, in_qsize 5, out_qsize 0\n",
      "INFO - 23:39:30: EPOCH 12 - PROGRESS: at 20.71% examples, 669 words/s, in_qsize 5, out_qsize 0\n",
      "INFO - 23:39:31: EPOCH 12 - PROGRESS: at 23.85% examples, 755 words/s, in_qsize 5, out_qsize 0\n",
      "INFO - 23:39:44: EPOCH 12 - PROGRESS: at 25.38% examples, 684 words/s, in_qsize 5, out_qsize 0\n",
      "INFO - 23:39:45: EPOCH 12 - PROGRESS: at 28.77% examples, 758 words/s, in_qsize 6, out_qsize 0\n",
      "INFO - 23:39:58: EPOCH 12 - PROGRESS: at 30.45% examples, 696 words/s, in_qsize 5, out_qsize 0\n",
      "INFO - 23:39:59: EPOCH 12 - PROGRESS: at 32.16% examples, 726 words/s, in_qsize 6, out_qsize 0\n",
      "INFO - 23:40:12: EPOCH 12 - PROGRESS: at 35.62% examples, 708 words/s, in_qsize 6, out_qsize 0\n",
      "INFO - 23:40:13: EPOCH 12 - PROGRESS: at 39.12% examples, 763 words/s, in_qsize 5, out_qsize 0\n",
      "INFO - 23:40:26: EPOCH 12 - PROGRESS: at 40.98% examples, 715 words/s, in_qsize 5, out_qsize 0\n",
      "INFO - 23:40:40: EPOCH 12 - PROGRESS: at 46.58% examples, 720 words/s, in_qsize 5, out_qsize 0\n"
     ]
    },
    {
     "name": "stderr",
     "output_type": "stream",
     "text": [
      "INFO - 23:40:41: EPOCH 12 - PROGRESS: at 48.28% examples, 739 words/s, in_qsize 5, out_qsize 0\n",
      "INFO - 23:40:54: EPOCH 12 - PROGRESS: at 51.75% examples, 725 words/s, in_qsize 5, out_qsize 0\n",
      "INFO - 23:40:56: EPOCH 12 - PROGRESS: at 55.11% examples, 763 words/s, in_qsize 5, out_qsize 0\n",
      "INFO - 23:41:08: EPOCH 12 - PROGRESS: at 56.77% examples, 728 words/s, in_qsize 6, out_qsize 0\n",
      "INFO - 23:41:10: EPOCH 12 - PROGRESS: at 60.07% examples, 765 words/s, in_qsize 5, out_qsize 0\n",
      "INFO - 23:41:23: EPOCH 12 - PROGRESS: at 61.73% examples, 731 words/s, in_qsize 6, out_qsize 0\n",
      "INFO - 23:41:24: EPOCH 12 - PROGRESS: at 65.09% examples, 764 words/s, in_qsize 5, out_qsize 0\n",
      "INFO - 23:41:38: EPOCH 12 - PROGRESS: at 66.81% examples, 733 words/s, in_qsize 5, out_qsize 0\n",
      "INFO - 23:41:52: EPOCH 12 - PROGRESS: at 71.73% examples, 736 words/s, in_qsize 6, out_qsize 0\n",
      "INFO - 23:41:53: EPOCH 12 - PROGRESS: at 75.05% examples, 766 words/s, in_qsize 5, out_qsize 0\n",
      "INFO - 23:42:06: EPOCH 12 - PROGRESS: at 76.75% examples, 737 words/s, in_qsize 6, out_qsize 0\n",
      "INFO - 23:42:21: EPOCH 12 - PROGRESS: at 81.68% examples, 738 words/s, in_qsize 6, out_qsize 0\n",
      "INFO - 23:42:35: EPOCH 12 - PROGRESS: at 86.69% examples, 740 words/s, in_qsize 5, out_qsize 0\n",
      "INFO - 23:42:49: EPOCH 12 - PROGRESS: at 91.80% examples, 743 words/s, in_qsize 5, out_qsize 0\n",
      "INFO - 23:43:03: EPOCH 12 - PROGRESS: at 96.63% examples, 746 words/s, in_qsize 3, out_qsize 0\n",
      "INFO - 23:43:03: worker thread finished; awaiting finish of 2 more threads\n",
      "INFO - 23:43:03: worker thread finished; awaiting finish of 1 more threads\n",
      "INFO - 23:43:03: worker thread finished; awaiting finish of 0 more threads\n",
      "INFO - 23:43:03: EPOCH - 12 : training on 601119 raw words (219199 effective words) took 284.6s, 770 effective words/s\n",
      "INFO - 23:43:18: EPOCH 13 - PROGRESS: at 1.66% examples, 248 words/s, in_qsize 6, out_qsize 0\n",
      "INFO - 23:43:32: EPOCH 13 - PROGRESS: at 6.42% examples, 514 words/s, in_qsize 6, out_qsize 0\n",
      "INFO - 23:43:46: EPOCH 13 - PROGRESS: at 11.51% examples, 594 words/s, in_qsize 6, out_qsize 0\n",
      "INFO - 23:44:00: EPOCH 13 - PROGRESS: at 16.19% examples, 642 words/s, in_qsize 5, out_qsize 0\n",
      "INFO - 23:44:14: EPOCH 13 - PROGRESS: at 20.85% examples, 667 words/s, in_qsize 6, out_qsize 0\n",
      "INFO - 23:44:28: EPOCH 13 - PROGRESS: at 25.38% examples, 685 words/s, in_qsize 6, out_qsize 0\n",
      "INFO - 23:44:42: EPOCH 13 - PROGRESS: at 30.45% examples, 696 words/s, in_qsize 6, out_qsize 0\n",
      "INFO - 23:44:56: EPOCH 13 - PROGRESS: at 35.62% examples, 707 words/s, in_qsize 6, out_qsize 0\n",
      "INFO - 23:45:10: EPOCH 13 - PROGRESS: at 40.98% examples, 717 words/s, in_qsize 5, out_qsize 0\n",
      "INFO - 23:45:23: EPOCH 13 - PROGRESS: at 46.58% examples, 724 words/s, in_qsize 5, out_qsize 0\n",
      "INFO - 23:45:25: EPOCH 13 - PROGRESS: at 48.35% examples, 744 words/s, in_qsize 5, out_qsize 0\n",
      "INFO - 23:45:38: EPOCH 13 - PROGRESS: at 51.75% examples, 729 words/s, in_qsize 5, out_qsize 0\n",
      "INFO - 23:45:40: EPOCH 13 - PROGRESS: at 55.11% examples, 767 words/s, in_qsize 5, out_qsize 0\n",
      "INFO - 23:45:52: EPOCH 13 - PROGRESS: at 56.77% examples, 731 words/s, in_qsize 5, out_qsize 0\n",
      "INFO - 23:45:54: EPOCH 13 - PROGRESS: at 60.07% examples, 768 words/s, in_qsize 6, out_qsize 0\n",
      "INFO - 23:46:07: EPOCH 13 - PROGRESS: at 61.73% examples, 733 words/s, in_qsize 5, out_qsize 0\n",
      "INFO - 23:46:08: EPOCH 13 - PROGRESS: at 65.09% examples, 768 words/s, in_qsize 6, out_qsize 0\n",
      "INFO - 23:46:22: EPOCH 13 - PROGRESS: at 66.81% examples, 735 words/s, in_qsize 5, out_qsize 0\n",
      "INFO - 23:46:36: EPOCH 13 - PROGRESS: at 71.73% examples, 737 words/s, in_qsize 5, out_qsize 0\n",
      "INFO - 23:46:50: EPOCH 13 - PROGRESS: at 76.75% examples, 739 words/s, in_qsize 6, out_qsize 0\n",
      "INFO - 23:47:05: EPOCH 13 - PROGRESS: at 81.68% examples, 740 words/s, in_qsize 5, out_qsize 0\n",
      "INFO - 23:47:19: EPOCH 13 - PROGRESS: at 86.69% examples, 742 words/s, in_qsize 5, out_qsize 0\n",
      "INFO - 23:47:33: EPOCH 13 - PROGRESS: at 91.69% examples, 744 words/s, in_qsize 5, out_qsize 0\n",
      "INFO - 23:47:47: EPOCH 13 - PROGRESS: at 96.63% examples, 746 words/s, in_qsize 3, out_qsize 0\n",
      "INFO - 23:47:47: worker thread finished; awaiting finish of 2 more threads\n",
      "INFO - 23:47:47: worker thread finished; awaiting finish of 1 more threads\n",
      "INFO - 23:47:48: worker thread finished; awaiting finish of 0 more threads\n",
      "INFO - 23:47:48: EPOCH - 13 : training on 601119 raw words (219115 effective words) took 284.2s, 771 effective words/s\n",
      "INFO - 23:48:02: EPOCH 14 - PROGRESS: at 1.66% examples, 241 words/s, in_qsize 5, out_qsize 0\n",
      "INFO - 23:48:03: EPOCH 14 - PROGRESS: at 4.80% examples, 693 words/s, in_qsize 5, out_qsize 0\n",
      "INFO - 23:48:16: EPOCH 14 - PROGRESS: at 6.42% examples, 503 words/s, in_qsize 6, out_qsize 0\n",
      "INFO - 23:48:18: EPOCH 14 - PROGRESS: at 9.96% examples, 724 words/s, in_qsize 5, out_qsize 0\n",
      "INFO - 23:48:31: EPOCH 14 - PROGRESS: at 11.55% examples, 584 words/s, in_qsize 6, out_qsize 0\n",
      "INFO - 23:48:33: EPOCH 14 - PROGRESS: at 14.61% examples, 729 words/s, in_qsize 5, out_qsize 0\n",
      "INFO - 23:48:46: EPOCH 14 - PROGRESS: at 16.16% examples, 625 words/s, in_qsize 6, out_qsize 0\n",
      "INFO - 23:48:47: EPOCH 14 - PROGRESS: at 19.27% examples, 735 words/s, in_qsize 5, out_qsize 0\n",
      "INFO - 23:49:00: EPOCH 14 - PROGRESS: at 20.71% examples, 656 words/s, in_qsize 6, out_qsize 0\n",
      "INFO - 23:49:14: EPOCH 14 - PROGRESS: at 25.38% examples, 672 words/s, in_qsize 5, out_qsize 0\n",
      "INFO - 23:49:29: EPOCH 14 - PROGRESS: at 30.45% examples, 683 words/s, in_qsize 5, out_qsize 0\n",
      "INFO - 23:49:30: EPOCH 14 - PROGRESS: at 33.89% examples, 748 words/s, in_qsize 5, out_qsize 0\n",
      "INFO - 23:49:43: EPOCH 14 - PROGRESS: at 35.62% examples, 693 words/s, in_qsize 6, out_qsize 0\n",
      "INFO - 23:49:44: EPOCH 14 - PROGRESS: at 39.12% examples, 747 words/s, in_qsize 5, out_qsize 0\n",
      "INFO - 23:49:57: EPOCH 14 - PROGRESS: at 40.98% examples, 703 words/s, in_qsize 6, out_qsize 0\n",
      "INFO - 23:49:58: EPOCH 14 - PROGRESS: at 44.72% examples, 752 words/s, in_qsize 6, out_qsize 0\n",
      "INFO - 23:50:11: EPOCH 14 - PROGRESS: at 46.58% examples, 710 words/s, in_qsize 6, out_qsize 0\n",
      "INFO - 23:50:12: EPOCH 14 - PROGRESS: at 48.35% examples, 728 words/s, in_qsize 6, out_qsize 0\n",
      "INFO - 23:50:25: EPOCH 14 - PROGRESS: at 51.75% examples, 715 words/s, in_qsize 5, out_qsize 0\n",
      "INFO - 23:50:27: EPOCH 14 - PROGRESS: at 55.11% examples, 752 words/s, in_qsize 5, out_qsize 0\n",
      "INFO - 23:50:40: EPOCH 14 - PROGRESS: at 56.77% examples, 719 words/s, in_qsize 6, out_qsize 0\n",
      "INFO - 23:50:41: EPOCH 14 - PROGRESS: at 60.07% examples, 755 words/s, in_qsize 6, out_qsize 0\n",
      "INFO - 23:50:54: EPOCH 14 - PROGRESS: at 61.73% examples, 721 words/s, in_qsize 5, out_qsize 0\n",
      "INFO - 23:50:55: EPOCH 14 - PROGRESS: at 65.09% examples, 755 words/s, in_qsize 5, out_qsize 0\n",
      "INFO - 23:51:08: EPOCH 14 - PROGRESS: at 66.76% examples, 725 words/s, in_qsize 5, out_qsize 0\n",
      "INFO - 23:51:10: EPOCH 14 - PROGRESS: at 70.09% examples, 757 words/s, in_qsize 6, out_qsize 0\n",
      "INFO - 23:51:23: EPOCH 14 - PROGRESS: at 71.73% examples, 728 words/s, in_qsize 5, out_qsize 0\n",
      "INFO - 23:51:25: EPOCH 14 - PROGRESS: at 75.05% examples, 756 words/s, in_qsize 6, out_qsize 0\n",
      "INFO - 23:51:37: EPOCH 14 - PROGRESS: at 76.68% examples, 731 words/s, in_qsize 6, out_qsize 0\n",
      "INFO - 23:51:39: EPOCH 14 - PROGRESS: at 80.01% examples, 756 words/s, in_qsize 6, out_qsize 0\n",
      "INFO - 23:51:52: EPOCH 14 - PROGRESS: at 81.64% examples, 733 words/s, in_qsize 5, out_qsize 0\n",
      "INFO - 23:51:53: EPOCH 14 - PROGRESS: at 84.97% examples, 758 words/s, in_qsize 6, out_qsize 0\n",
      "INFO - 23:52:06: EPOCH 14 - PROGRESS: at 86.72% examples, 735 words/s, in_qsize 5, out_qsize 0\n",
      "INFO - 23:52:08: EPOCH 14 - PROGRESS: at 90.09% examples, 759 words/s, in_qsize 5, out_qsize 0\n",
      "INFO - 23:52:20: EPOCH 14 - PROGRESS: at 91.80% examples, 738 words/s, in_qsize 6, out_qsize 0\n",
      "INFO - 23:52:22: EPOCH 14 - PROGRESS: at 95.04% examples, 760 words/s, in_qsize 4, out_qsize 0\n",
      "INFO - 23:52:34: EPOCH 14 - PROGRESS: at 96.63% examples, 741 words/s, in_qsize 3, out_qsize 0\n",
      "INFO - 23:52:34: worker thread finished; awaiting finish of 2 more threads\n",
      "INFO - 23:52:35: EPOCH 14 - PROGRESS: at 99.79% examples, 763 words/s, in_qsize 1, out_qsize 1\n",
      "INFO - 23:52:35: worker thread finished; awaiting finish of 1 more threads\n",
      "INFO - 23:52:35: worker thread finished; awaiting finish of 0 more threads\n",
      "INFO - 23:52:35: EPOCH - 14 : training on 601119 raw words (219512 effective words) took 287.1s, 765 effective words/s\n",
      "INFO - 23:52:49: EPOCH 15 - PROGRESS: at 1.66% examples, 247 words/s, in_qsize 6, out_qsize 0\n",
      "INFO - 23:52:50: EPOCH 15 - PROGRESS: at 4.80% examples, 712 words/s, in_qsize 5, out_qsize 0\n",
      "INFO - 23:53:03: EPOCH 15 - PROGRESS: at 6.42% examples, 508 words/s, in_qsize 5, out_qsize 0\n",
      "INFO - 23:53:04: EPOCH 15 - PROGRESS: at 9.96% examples, 736 words/s, in_qsize 5, out_qsize 0\n",
      "INFO - 23:53:18: EPOCH 15 - PROGRESS: at 11.51% examples, 587 words/s, in_qsize 5, out_qsize 0\n",
      "INFO - 23:53:19: EPOCH 15 - PROGRESS: at 14.61% examples, 740 words/s, in_qsize 6, out_qsize 0\n",
      "INFO - 23:53:32: EPOCH 15 - PROGRESS: at 16.19% examples, 630 words/s, in_qsize 5, out_qsize 0\n",
      "INFO - 23:53:46: EPOCH 15 - PROGRESS: at 20.82% examples, 660 words/s, in_qsize 6, out_qsize 0\n",
      "INFO - 23:54:00: EPOCH 15 - PROGRESS: at 25.38% examples, 679 words/s, in_qsize 6, out_qsize 0\n",
      "INFO - 23:54:01: EPOCH 15 - PROGRESS: at 28.77% examples, 754 words/s, in_qsize 5, out_qsize 0\n",
      "INFO - 23:54:14: EPOCH 15 - PROGRESS: at 30.45% examples, 693 words/s, in_qsize 6, out_qsize 0\n",
      "INFO - 23:54:15: EPOCH 15 - PROGRESS: at 32.18% examples, 720 words/s, in_qsize 6, out_qsize 0\n",
      "INFO - 23:54:28: EPOCH 15 - PROGRESS: at 35.62% examples, 705 words/s, in_qsize 5, out_qsize 0\n",
      "INFO - 23:54:29: EPOCH 15 - PROGRESS: at 37.39% examples, 728 words/s, in_qsize 6, out_qsize 0\n",
      "INFO - 23:54:42: EPOCH 15 - PROGRESS: at 40.98% examples, 711 words/s, in_qsize 6, out_qsize 0\n",
      "INFO - 23:54:43: EPOCH 15 - PROGRESS: at 42.87% examples, 733 words/s, in_qsize 5, out_qsize 0\n",
      "INFO - 23:54:56: EPOCH 15 - PROGRESS: at 46.58% examples, 716 words/s, in_qsize 6, out_qsize 0\n",
      "INFO - 23:54:57: EPOCH 15 - PROGRESS: at 48.28% examples, 735 words/s, in_qsize 6, out_qsize 0\n",
      "INFO - 23:55:10: EPOCH 15 - PROGRESS: at 51.75% examples, 722 words/s, in_qsize 5, out_qsize 0\n",
      "INFO - 23:55:12: EPOCH 15 - PROGRESS: at 53.41% examples, 739 words/s, in_qsize 5, out_qsize 0\n",
      "INFO - 23:55:25: EPOCH 15 - PROGRESS: at 56.77% examples, 725 words/s, in_qsize 5, out_qsize 0\n",
      "INFO - 23:55:26: EPOCH 15 - PROGRESS: at 60.07% examples, 762 words/s, in_qsize 6, out_qsize 0\n",
      "INFO - 23:55:40: EPOCH 15 - PROGRESS: at 61.73% examples, 726 words/s, in_qsize 6, out_qsize 0\n",
      "INFO - 23:55:41: EPOCH 15 - PROGRESS: at 65.09% examples, 761 words/s, in_qsize 6, out_qsize 0\n",
      "INFO - 23:55:55: EPOCH 15 - PROGRESS: at 66.81% examples, 728 words/s, in_qsize 5, out_qsize 0\n",
      "INFO - 23:56:09: EPOCH 15 - PROGRESS: at 71.73% examples, 731 words/s, in_qsize 5, out_qsize 0\n",
      "INFO - 23:56:23: EPOCH 15 - PROGRESS: at 76.75% examples, 733 words/s, in_qsize 5, out_qsize 0\n",
      "INFO - 23:56:38: EPOCH 15 - PROGRESS: at 81.64% examples, 735 words/s, in_qsize 5, out_qsize 0\n",
      "INFO - 23:56:52: EPOCH 15 - PROGRESS: at 86.72% examples, 738 words/s, in_qsize 5, out_qsize 0\n",
      "INFO - 23:57:06: EPOCH 15 - PROGRESS: at 91.80% examples, 741 words/s, in_qsize 6, out_qsize 0\n",
      "INFO - 23:57:19: EPOCH 15 - PROGRESS: at 96.63% examples, 743 words/s, in_qsize 3, out_qsize 0\n",
      "INFO - 23:57:20: worker thread finished; awaiting finish of 2 more threads\n",
      "INFO - 23:57:20: worker thread finished; awaiting finish of 1 more threads\n",
      "INFO - 23:57:20: worker thread finished; awaiting finish of 0 more threads\n",
      "INFO - 23:57:20: EPOCH - 15 : training on 601119 raw words (219237 effective words) took 285.4s, 768 effective words/s\n",
      "INFO - 23:57:34: EPOCH 16 - PROGRESS: at 1.66% examples, 249 words/s, in_qsize 5, out_qsize 0\n",
      "INFO - 23:57:49: EPOCH 16 - PROGRESS: at 6.42% examples, 502 words/s, in_qsize 5, out_qsize 0\n",
      "INFO - 23:58:04: EPOCH 16 - PROGRESS: at 11.55% examples, 584 words/s, in_qsize 5, out_qsize 0\n",
      "INFO - 23:58:18: EPOCH 16 - PROGRESS: at 16.19% examples, 627 words/s, in_qsize 5, out_qsize 0\n",
      "INFO - 23:58:32: EPOCH 16 - PROGRESS: at 20.85% examples, 656 words/s, in_qsize 6, out_qsize 0\n",
      "INFO - 23:58:46: EPOCH 16 - PROGRESS: at 25.38% examples, 675 words/s, in_qsize 5, out_qsize 0\n",
      "INFO - 23:59:00: EPOCH 16 - PROGRESS: at 30.45% examples, 688 words/s, in_qsize 6, out_qsize 0\n",
      "INFO - 23:59:01: EPOCH 16 - PROGRESS: at 33.89% examples, 752 words/s, in_qsize 5, out_qsize 0\n",
      "INFO - 23:59:14: EPOCH 16 - PROGRESS: at 35.62% examples, 699 words/s, in_qsize 6, out_qsize 0\n",
      "INFO - 23:59:16: EPOCH 16 - PROGRESS: at 39.12% examples, 754 words/s, in_qsize 5, out_qsize 0\n",
      "INFO - 23:59:28: EPOCH 16 - PROGRESS: at 40.98% examples, 707 words/s, in_qsize 5, out_qsize 0\n",
      "INFO - 23:59:30: EPOCH 16 - PROGRESS: at 44.72% examples, 756 words/s, in_qsize 6, out_qsize 0\n",
      "INFO - 23:59:42: EPOCH 16 - PROGRESS: at 46.58% examples, 714 words/s, in_qsize 5, out_qsize 0\n",
      "INFO - 23:59:44: EPOCH 16 - PROGRESS: at 50.05% examples, 757 words/s, in_qsize 6, out_qsize 0\n",
      "INFO - 23:59:57: EPOCH 16 - PROGRESS: at 51.75% examples, 719 words/s, in_qsize 6, out_qsize 0\n",
      "INFO - 23:59:59: EPOCH 16 - PROGRESS: at 55.11% examples, 756 words/s, in_qsize 5, out_qsize 0\n",
      "INFO - 00:00:11: EPOCH 16 - PROGRESS: at 56.73% examples, 722 words/s, in_qsize 5, out_qsize 0\n",
      "INFO - 00:00:13: EPOCH 16 - PROGRESS: at 60.07% examples, 758 words/s, in_qsize 5, out_qsize 0\n",
      "INFO - 00:00:26: EPOCH 16 - PROGRESS: at 61.78% examples, 725 words/s, in_qsize 5, out_qsize 0\n",
      "INFO - 00:00:27: EPOCH 16 - PROGRESS: at 65.09% examples, 759 words/s, in_qsize 5, out_qsize 0\n",
      "INFO - 00:00:40: EPOCH 16 - PROGRESS: at 66.76% examples, 729 words/s, in_qsize 5, out_qsize 0\n",
      "INFO - 00:00:41: EPOCH 16 - PROGRESS: at 70.09% examples, 761 words/s, in_qsize 6, out_qsize 0\n",
      "INFO - 00:00:54: EPOCH 16 - PROGRESS: at 71.73% examples, 733 words/s, in_qsize 6, out_qsize 0\n",
      "INFO - 00:00:56: EPOCH 16 - PROGRESS: at 75.05% examples, 760 words/s, in_qsize 6, out_qsize 0\n",
      "INFO - 00:01:09: EPOCH 16 - PROGRESS: at 76.68% examples, 734 words/s, in_qsize 6, out_qsize 0\n",
      "INFO - 00:01:10: EPOCH 16 - PROGRESS: at 80.01% examples, 761 words/s, in_qsize 6, out_qsize 0\n",
      "INFO - 00:01:23: EPOCH 16 - PROGRESS: at 81.64% examples, 737 words/s, in_qsize 5, out_qsize 0\n",
      "INFO - 00:01:24: EPOCH 16 - PROGRESS: at 84.97% examples, 763 words/s, in_qsize 5, out_qsize 0\n",
      "INFO - 00:01:37: EPOCH 16 - PROGRESS: at 86.72% examples, 739 words/s, in_qsize 5, out_qsize 0\n",
      "INFO - 00:01:38: EPOCH 16 - PROGRESS: at 90.09% examples, 764 words/s, in_qsize 6, out_qsize 0\n",
      "INFO - 00:01:51: EPOCH 16 - PROGRESS: at 91.80% examples, 742 words/s, in_qsize 6, out_qsize 0\n",
      "INFO - 00:01:52: EPOCH 16 - PROGRESS: at 95.04% examples, 765 words/s, in_qsize 4, out_qsize 0\n",
      "INFO - 00:02:04: EPOCH 16 - PROGRESS: at 96.63% examples, 745 words/s, in_qsize 3, out_qsize 0\n",
      "INFO - 00:02:05: worker thread finished; awaiting finish of 2 more threads\n",
      "INFO - 00:02:05: EPOCH 16 - PROGRESS: at 99.79% examples, 767 words/s, in_qsize 1, out_qsize 1\n",
      "INFO - 00:02:05: worker thread finished; awaiting finish of 1 more threads\n",
      "INFO - 00:02:06: worker thread finished; awaiting finish of 0 more threads\n",
      "INFO - 00:02:06: EPOCH - 16 : training on 601119 raw words (219188 effective words) took 285.3s, 768 effective words/s\n",
      "INFO - 00:02:20: EPOCH 17 - PROGRESS: at 1.66% examples, 244 words/s, in_qsize 6, out_qsize 0\n",
      "INFO - 00:02:34: EPOCH 17 - PROGRESS: at 6.42% examples, 510 words/s, in_qsize 5, out_qsize 0\n",
      "INFO - 00:02:35: EPOCH 17 - PROGRESS: at 9.96% examples, 737 words/s, in_qsize 5, out_qsize 0\n",
      "INFO - 00:02:48: EPOCH 17 - PROGRESS: at 11.55% examples, 597 words/s, in_qsize 5, out_qsize 0\n",
      "INFO - 00:02:49: EPOCH 17 - PROGRESS: at 14.61% examples, 748 words/s, in_qsize 6, out_qsize 0\n",
      "INFO - 00:03:02: EPOCH 17 - PROGRESS: at 16.19% examples, 641 words/s, in_qsize 5, out_qsize 0\n",
      "INFO - 00:03:03: EPOCH 17 - PROGRESS: at 17.74% examples, 695 words/s, in_qsize 6, out_qsize 0\n",
      "INFO - 00:03:17: EPOCH 17 - PROGRESS: at 20.71% examples, 667 words/s, in_qsize 6, out_qsize 0\n",
      "INFO - 00:03:18: EPOCH 17 - PROGRESS: at 23.85% examples, 754 words/s, in_qsize 6, out_qsize 0\n",
      "INFO - 00:03:31: EPOCH 17 - PROGRESS: at 25.38% examples, 684 words/s, in_qsize 6, out_qsize 0\n",
      "INFO - 00:03:32: EPOCH 17 - PROGRESS: at 28.77% examples, 759 words/s, in_qsize 6, out_qsize 0\n",
      "INFO - 00:03:45: EPOCH 17 - PROGRESS: at 30.45% examples, 695 words/s, in_qsize 5, out_qsize 0\n"
     ]
    },
    {
     "name": "stderr",
     "output_type": "stream",
     "text": [
      "INFO - 00:03:46: EPOCH 17 - PROGRESS: at 32.16% examples, 725 words/s, in_qsize 5, out_qsize 0\n",
      "INFO - 00:03:59: EPOCH 17 - PROGRESS: at 35.62% examples, 703 words/s, in_qsize 6, out_qsize 0\n",
      "INFO - 00:04:01: EPOCH 17 - PROGRESS: at 39.12% examples, 759 words/s, in_qsize 5, out_qsize 0\n",
      "INFO - 00:04:13: EPOCH 17 - PROGRESS: at 40.98% examples, 712 words/s, in_qsize 6, out_qsize 0\n",
      "INFO - 00:04:14: EPOCH 17 - PROGRESS: at 44.72% examples, 762 words/s, in_qsize 6, out_qsize 0\n",
      "INFO - 00:04:28: EPOCH 17 - PROGRESS: at 46.58% examples, 716 words/s, in_qsize 5, out_qsize 0\n",
      "INFO - 00:04:29: EPOCH 17 - PROGRESS: at 48.35% examples, 737 words/s, in_qsize 5, out_qsize 0\n",
      "INFO - 00:04:42: EPOCH 17 - PROGRESS: at 51.75% examples, 721 words/s, in_qsize 5, out_qsize 0\n",
      "INFO - 00:04:44: EPOCH 17 - PROGRESS: at 55.11% examples, 761 words/s, in_qsize 5, out_qsize 0\n",
      "INFO - 00:04:57: EPOCH 17 - PROGRESS: at 56.77% examples, 724 words/s, in_qsize 5, out_qsize 0\n",
      "INFO - 00:05:11: EPOCH 17 - PROGRESS: at 61.73% examples, 727 words/s, in_qsize 5, out_qsize 0\n",
      "INFO - 00:05:25: EPOCH 17 - PROGRESS: at 66.76% examples, 730 words/s, in_qsize 5, out_qsize 0\n",
      "INFO - 00:05:39: EPOCH 17 - PROGRESS: at 71.73% examples, 733 words/s, in_qsize 6, out_qsize 0\n",
      "INFO - 00:05:40: EPOCH 17 - PROGRESS: at 75.05% examples, 764 words/s, in_qsize 5, out_qsize 0\n",
      "INFO - 00:05:54: EPOCH 17 - PROGRESS: at 76.68% examples, 736 words/s, in_qsize 6, out_qsize 0\n",
      "INFO - 00:06:08: EPOCH 17 - PROGRESS: at 81.64% examples, 737 words/s, in_qsize 5, out_qsize 0\n",
      "INFO - 00:06:22: EPOCH 17 - PROGRESS: at 86.69% examples, 739 words/s, in_qsize 5, out_qsize 0\n",
      "INFO - 00:06:24: EPOCH 17 - PROGRESS: at 90.09% examples, 765 words/s, in_qsize 6, out_qsize 0\n",
      "INFO - 00:06:37: EPOCH 17 - PROGRESS: at 91.80% examples, 741 words/s, in_qsize 5, out_qsize 0\n",
      "INFO - 00:06:38: EPOCH 17 - PROGRESS: at 95.04% examples, 765 words/s, in_qsize 4, out_qsize 0\n",
      "INFO - 00:06:50: EPOCH 17 - PROGRESS: at 96.63% examples, 744 words/s, in_qsize 3, out_qsize 0\n",
      "INFO - 00:06:51: EPOCH 17 - PROGRESS: at 98.21% examples, 754 words/s, in_qsize 2, out_qsize 1\n",
      "INFO - 00:06:51: worker thread finished; awaiting finish of 2 more threads\n",
      "INFO - 00:06:52: worker thread finished; awaiting finish of 1 more threads\n",
      "INFO - 00:06:52: worker thread finished; awaiting finish of 0 more threads\n",
      "INFO - 00:06:52: EPOCH - 17 : training on 601119 raw words (219668 effective words) took 286.1s, 768 effective words/s\n",
      "INFO - 00:07:06: EPOCH 18 - PROGRESS: at 1.66% examples, 242 words/s, in_qsize 5, out_qsize 0\n",
      "INFO - 00:07:20: EPOCH 18 - PROGRESS: at 6.42% examples, 501 words/s, in_qsize 5, out_qsize 0\n",
      "INFO - 00:07:21: EPOCH 18 - PROGRESS: at 9.96% examples, 736 words/s, in_qsize 5, out_qsize 0\n",
      "INFO - 00:07:35: EPOCH 18 - PROGRESS: at 11.55% examples, 590 words/s, in_qsize 5, out_qsize 0\n",
      "INFO - 00:07:49: EPOCH 18 - PROGRESS: at 16.19% examples, 633 words/s, in_qsize 6, out_qsize 0\n",
      "INFO - 00:08:03: EPOCH 18 - PROGRESS: at 20.82% examples, 663 words/s, in_qsize 5, out_qsize 0\n",
      "INFO - 00:08:18: EPOCH 18 - PROGRESS: at 25.38% examples, 675 words/s, in_qsize 6, out_qsize 0\n",
      "INFO - 00:08:32: EPOCH 18 - PROGRESS: at 30.45% examples, 686 words/s, in_qsize 5, out_qsize 0\n",
      "INFO - 00:08:47: EPOCH 18 - PROGRESS: at 35.62% examples, 695 words/s, in_qsize 5, out_qsize 0\n",
      "INFO - 00:09:01: EPOCH 18 - PROGRESS: at 40.98% examples, 703 words/s, in_qsize 5, out_qsize 0\n",
      "INFO - 00:09:15: EPOCH 18 - PROGRESS: at 46.58% examples, 709 words/s, in_qsize 5, out_qsize 0\n",
      "INFO - 00:09:16: EPOCH 18 - PROGRESS: at 50.05% examples, 755 words/s, in_qsize 5, out_qsize 0\n",
      "INFO - 00:09:30: EPOCH 18 - PROGRESS: at 51.75% examples, 713 words/s, in_qsize 5, out_qsize 0\n",
      "INFO - 00:09:31: EPOCH 18 - PROGRESS: at 55.11% examples, 754 words/s, in_qsize 5, out_qsize 0\n",
      "INFO - 00:09:45: EPOCH 18 - PROGRESS: at 56.77% examples, 715 words/s, in_qsize 5, out_qsize 0\n",
      "INFO - 00:09:59: EPOCH 18 - PROGRESS: at 61.73% examples, 719 words/s, in_qsize 5, out_qsize 0\n",
      "INFO - 00:10:14: EPOCH 18 - PROGRESS: at 66.76% examples, 722 words/s, in_qsize 6, out_qsize 0\n",
      "INFO - 00:10:27: EPOCH 18 - PROGRESS: at 71.73% examples, 727 words/s, in_qsize 6, out_qsize 0\n",
      "INFO - 00:10:29: EPOCH 18 - PROGRESS: at 75.05% examples, 756 words/s, in_qsize 6, out_qsize 0\n",
      "INFO - 00:10:42: EPOCH 18 - PROGRESS: at 76.75% examples, 729 words/s, in_qsize 6, out_qsize 0\n",
      "INFO - 00:10:57: EPOCH 18 - PROGRESS: at 81.64% examples, 731 words/s, in_qsize 6, out_qsize 0\n",
      "INFO - 00:11:11: EPOCH 18 - PROGRESS: at 86.72% examples, 734 words/s, in_qsize 5, out_qsize 0\n",
      "INFO - 00:11:12: EPOCH 18 - PROGRESS: at 90.09% examples, 760 words/s, in_qsize 5, out_qsize 0\n",
      "INFO - 00:11:25: EPOCH 18 - PROGRESS: at 91.80% examples, 737 words/s, in_qsize 5, out_qsize 0\n",
      "INFO - 00:11:26: EPOCH 18 - PROGRESS: at 95.04% examples, 761 words/s, in_qsize 4, out_qsize 0\n",
      "INFO - 00:11:38: EPOCH 18 - PROGRESS: at 96.63% examples, 740 words/s, in_qsize 3, out_qsize 0\n",
      "INFO - 00:11:39: EPOCH 18 - PROGRESS: at 98.21% examples, 750 words/s, in_qsize 2, out_qsize 1\n",
      "INFO - 00:11:39: worker thread finished; awaiting finish of 2 more threads\n",
      "INFO - 00:11:39: worker thread finished; awaiting finish of 1 more threads\n",
      "INFO - 00:11:40: worker thread finished; awaiting finish of 0 more threads\n",
      "INFO - 00:11:40: EPOCH - 18 : training on 601119 raw words (219864 effective words) took 287.9s, 764 effective words/s\n",
      "INFO - 00:11:54: EPOCH 19 - PROGRESS: at 1.66% examples, 248 words/s, in_qsize 6, out_qsize 0\n",
      "INFO - 00:12:08: EPOCH 19 - PROGRESS: at 6.42% examples, 505 words/s, in_qsize 5, out_qsize 0\n",
      "INFO - 00:12:23: EPOCH 19 - PROGRESS: at 11.55% examples, 595 words/s, in_qsize 5, out_qsize 0\n",
      "INFO - 00:12:37: EPOCH 19 - PROGRESS: at 16.19% examples, 640 words/s, in_qsize 5, out_qsize 0\n",
      "INFO - 00:12:51: EPOCH 19 - PROGRESS: at 20.71% examples, 668 words/s, in_qsize 6, out_qsize 0\n",
      "INFO - 00:13:05: EPOCH 19 - PROGRESS: at 25.38% examples, 682 words/s, in_qsize 6, out_qsize 0\n",
      "INFO - 00:13:19: EPOCH 19 - PROGRESS: at 30.45% examples, 694 words/s, in_qsize 6, out_qsize 0\n",
      "INFO - 00:13:33: EPOCH 19 - PROGRESS: at 35.62% examples, 706 words/s, in_qsize 6, out_qsize 0\n",
      "INFO - 00:13:34: EPOCH 19 - PROGRESS: at 39.12% examples, 763 words/s, in_qsize 6, out_qsize 0\n",
      "INFO - 00:13:47: EPOCH 19 - PROGRESS: at 40.98% examples, 715 words/s, in_qsize 5, out_qsize 0\n",
      "INFO - 00:13:48: EPOCH 19 - PROGRESS: at 44.72% examples, 765 words/s, in_qsize 6, out_qsize 0\n",
      "INFO - 00:14:01: EPOCH 19 - PROGRESS: at 46.58% examples, 720 words/s, in_qsize 6, out_qsize 0\n",
      "INFO - 00:14:02: EPOCH 19 - PROGRESS: at 50.05% examples, 765 words/s, in_qsize 5, out_qsize 0\n",
      "INFO - 00:14:15: EPOCH 19 - PROGRESS: at 51.75% examples, 723 words/s, in_qsize 6, out_qsize 0\n",
      "INFO - 00:14:17: EPOCH 19 - PROGRESS: at 55.11% examples, 764 words/s, in_qsize 6, out_qsize 0\n",
      "INFO - 00:14:30: EPOCH 19 - PROGRESS: at 56.77% examples, 725 words/s, in_qsize 6, out_qsize 0\n",
      "INFO - 00:14:45: EPOCH 19 - PROGRESS: at 61.78% examples, 727 words/s, in_qsize 5, out_qsize 0\n",
      "INFO - 00:14:59: EPOCH 19 - PROGRESS: at 66.69% examples, 731 words/s, in_qsize 5, out_qsize 0\n",
      "INFO - 00:15:13: EPOCH 19 - PROGRESS: at 71.73% examples, 734 words/s, in_qsize 6, out_qsize 0\n",
      "INFO - 00:15:28: EPOCH 19 - PROGRESS: at 76.75% examples, 735 words/s, in_qsize 6, out_qsize 0\n",
      "INFO - 00:15:42: EPOCH 19 - PROGRESS: at 81.64% examples, 737 words/s, in_qsize 5, out_qsize 0\n",
      "INFO - 00:15:57: EPOCH 19 - PROGRESS: at 86.69% examples, 739 words/s, in_qsize 5, out_qsize 0\n",
      "INFO - 00:16:11: EPOCH 19 - PROGRESS: at 91.80% examples, 742 words/s, in_qsize 6, out_qsize 0\n",
      "INFO - 00:16:24: EPOCH 19 - PROGRESS: at 96.63% examples, 744 words/s, in_qsize 3, out_qsize 0\n",
      "INFO - 00:16:25: worker thread finished; awaiting finish of 2 more threads\n",
      "INFO - 00:16:25: worker thread finished; awaiting finish of 1 more threads\n",
      "INFO - 00:16:25: worker thread finished; awaiting finish of 0 more threads\n",
      "INFO - 00:16:25: EPOCH - 19 : training on 601119 raw words (219724 effective words) took 285.7s, 769 effective words/s\n",
      "INFO - 00:16:40: EPOCH 20 - PROGRESS: at 1.66% examples, 249 words/s, in_qsize 6, out_qsize 0\n",
      "INFO - 00:16:54: EPOCH 20 - PROGRESS: at 6.42% examples, 510 words/s, in_qsize 6, out_qsize 0\n",
      "INFO - 00:17:08: EPOCH 20 - PROGRESS: at 11.51% examples, 596 words/s, in_qsize 6, out_qsize 0\n",
      "INFO - 00:17:22: EPOCH 20 - PROGRESS: at 16.19% examples, 644 words/s, in_qsize 5, out_qsize 0\n",
      "INFO - 00:17:23: EPOCH 20 - PROGRESS: at 19.27% examples, 758 words/s, in_qsize 6, out_qsize 0\n",
      "INFO - 00:17:36: EPOCH 20 - PROGRESS: at 20.71% examples, 669 words/s, in_qsize 6, out_qsize 0\n",
      "INFO - 00:17:50: EPOCH 20 - PROGRESS: at 25.38% examples, 685 words/s, in_qsize 5, out_qsize 0\n",
      "INFO - 00:18:04: EPOCH 20 - PROGRESS: at 30.45% examples, 697 words/s, in_qsize 6, out_qsize 0\n",
      "INFO - 00:18:18: EPOCH 20 - PROGRESS: at 35.62% examples, 708 words/s, in_qsize 5, out_qsize 0\n",
      "INFO - 00:18:19: EPOCH 20 - PROGRESS: at 39.12% examples, 765 words/s, in_qsize 5, out_qsize 0\n",
      "INFO - 00:18:33: EPOCH 20 - PROGRESS: at 40.98% examples, 714 words/s, in_qsize 5, out_qsize 0\n",
      "INFO - 00:18:34: EPOCH 20 - PROGRESS: at 44.72% examples, 764 words/s, in_qsize 6, out_qsize 0\n",
      "INFO - 00:18:47: EPOCH 20 - PROGRESS: at 46.58% examples, 717 words/s, in_qsize 6, out_qsize 0\n",
      "INFO - 00:18:49: EPOCH 20 - PROGRESS: at 50.05% examples, 760 words/s, in_qsize 6, out_qsize 0\n",
      "INFO - 00:19:02: EPOCH 20 - PROGRESS: at 51.75% examples, 721 words/s, in_qsize 6, out_qsize 0\n",
      "INFO - 00:19:03: EPOCH 20 - PROGRESS: at 53.41% examples, 739 words/s, in_qsize 6, out_qsize 0\n",
      "INFO - 00:19:04: EPOCH 20 - PROGRESS: at 55.11% examples, 758 words/s, in_qsize 6, out_qsize 0\n",
      "INFO - 00:19:17: EPOCH 20 - PROGRESS: at 56.77% examples, 722 words/s, in_qsize 6, out_qsize 0\n",
      "INFO - 00:19:18: EPOCH 20 - PROGRESS: at 60.07% examples, 758 words/s, in_qsize 6, out_qsize 0\n",
      "INFO - 00:19:31: EPOCH 20 - PROGRESS: at 61.78% examples, 725 words/s, in_qsize 5, out_qsize 0\n",
      "INFO - 00:19:46: EPOCH 20 - PROGRESS: at 66.76% examples, 727 words/s, in_qsize 5, out_qsize 0\n",
      "INFO - 00:20:00: EPOCH 20 - PROGRESS: at 71.73% examples, 730 words/s, in_qsize 5, out_qsize 0\n",
      "INFO - 00:20:01: EPOCH 20 - PROGRESS: at 75.05% examples, 760 words/s, in_qsize 6, out_qsize 0\n",
      "INFO - 00:20:15: EPOCH 20 - PROGRESS: at 76.68% examples, 733 words/s, in_qsize 6, out_qsize 0\n",
      "INFO - 00:20:16: EPOCH 20 - PROGRESS: at 80.01% examples, 761 words/s, in_qsize 6, out_qsize 0\n",
      "INFO - 00:20:29: EPOCH 20 - PROGRESS: at 81.64% examples, 734 words/s, in_qsize 5, out_qsize 0\n",
      "INFO - 00:20:43: EPOCH 20 - PROGRESS: at 86.72% examples, 737 words/s, in_qsize 5, out_qsize 0\n",
      "INFO - 00:20:57: EPOCH 20 - PROGRESS: at 91.80% examples, 739 words/s, in_qsize 5, out_qsize 0\n",
      "INFO - 00:21:10: EPOCH 20 - PROGRESS: at 96.63% examples, 743 words/s, in_qsize 3, out_qsize 0\n",
      "INFO - 00:21:12: EPOCH 20 - PROGRESS: at 98.21% examples, 752 words/s, in_qsize 2, out_qsize 1\n",
      "INFO - 00:21:12: worker thread finished; awaiting finish of 2 more threads\n",
      "INFO - 00:21:12: worker thread finished; awaiting finish of 1 more threads\n",
      "INFO - 00:21:12: worker thread finished; awaiting finish of 0 more threads\n",
      "INFO - 00:21:12: EPOCH - 20 : training on 601119 raw words (219478 effective words) took 286.5s, 766 effective words/s\n",
      "INFO - 00:21:26: EPOCH 21 - PROGRESS: at 1.66% examples, 247 words/s, in_qsize 6, out_qsize 0\n",
      "INFO - 00:21:40: EPOCH 21 - PROGRESS: at 6.42% examples, 512 words/s, in_qsize 6, out_qsize 0\n",
      "INFO - 00:21:41: EPOCH 21 - PROGRESS: at 9.96% examples, 745 words/s, in_qsize 5, out_qsize 0\n",
      "INFO - 00:21:55: EPOCH 21 - PROGRESS: at 11.51% examples, 592 words/s, in_qsize 6, out_qsize 0\n",
      "INFO - 00:22:09: EPOCH 21 - PROGRESS: at 16.19% examples, 637 words/s, in_qsize 5, out_qsize 0\n",
      "INFO - 00:22:23: EPOCH 21 - PROGRESS: at 20.85% examples, 663 words/s, in_qsize 6, out_qsize 0\n",
      "INFO - 00:22:37: EPOCH 21 - PROGRESS: at 25.55% examples, 682 words/s, in_qsize 5, out_qsize 0\n",
      "INFO - 00:22:51: EPOCH 21 - PROGRESS: at 30.45% examples, 695 words/s, in_qsize 6, out_qsize 0\n",
      "INFO - 00:23:05: EPOCH 21 - PROGRESS: at 35.65% examples, 703 words/s, in_qsize 6, out_qsize 0\n",
      "INFO - 00:23:06: EPOCH 21 - PROGRESS: at 39.12% examples, 762 words/s, in_qsize 5, out_qsize 0\n",
      "INFO - 00:23:19: EPOCH 21 - PROGRESS: at 41.01% examples, 713 words/s, in_qsize 6, out_qsize 0\n",
      "INFO - 00:23:33: EPOCH 21 - PROGRESS: at 46.58% examples, 719 words/s, in_qsize 5, out_qsize 0\n",
      "INFO - 00:23:34: EPOCH 21 - PROGRESS: at 50.05% examples, 765 words/s, in_qsize 5, out_qsize 0\n",
      "INFO - 00:23:47: EPOCH 21 - PROGRESS: at 51.72% examples, 723 words/s, in_qsize 5, out_qsize 0\n",
      "INFO - 00:23:49: EPOCH 21 - PROGRESS: at 55.11% examples, 765 words/s, in_qsize 6, out_qsize 0\n",
      "INFO - 00:24:02: EPOCH 21 - PROGRESS: at 56.73% examples, 726 words/s, in_qsize 6, out_qsize 0\n",
      "INFO - 00:24:16: EPOCH 21 - PROGRESS: at 61.73% examples, 729 words/s, in_qsize 6, out_qsize 0\n",
      "INFO - 00:24:31: EPOCH 21 - PROGRESS: at 66.69% examples, 732 words/s, in_qsize 5, out_qsize 0\n",
      "INFO - 00:24:45: EPOCH 21 - PROGRESS: at 71.73% examples, 735 words/s, in_qsize 5, out_qsize 0\n",
      "INFO - 00:24:46: EPOCH 21 - PROGRESS: at 75.05% examples, 765 words/s, in_qsize 6, out_qsize 0\n",
      "INFO - 00:24:59: EPOCH 21 - PROGRESS: at 76.75% examples, 737 words/s, in_qsize 6, out_qsize 0\n",
      "INFO - 00:25:14: EPOCH 21 - PROGRESS: at 81.64% examples, 738 words/s, in_qsize 6, out_qsize 0\n",
      "INFO - 00:25:28: EPOCH 21 - PROGRESS: at 86.72% examples, 741 words/s, in_qsize 5, out_qsize 0\n",
      "INFO - 00:25:42: EPOCH 21 - PROGRESS: at 91.80% examples, 743 words/s, in_qsize 6, out_qsize 0\n",
      "INFO - 00:25:55: EPOCH 21 - PROGRESS: at 96.63% examples, 747 words/s, in_qsize 3, out_qsize 0\n",
      "INFO - 00:25:56: EPOCH 21 - PROGRESS: at 98.21% examples, 757 words/s, in_qsize 2, out_qsize 1\n",
      "INFO - 00:25:56: worker thread finished; awaiting finish of 2 more threads\n",
      "INFO - 00:25:57: worker thread finished; awaiting finish of 1 more threads\n",
      "INFO - 00:25:57: worker thread finished; awaiting finish of 0 more threads\n",
      "INFO - 00:25:57: EPOCH - 21 : training on 601119 raw words (219464 effective words) took 285.0s, 770 effective words/s\n",
      "INFO - 00:26:11: EPOCH 22 - PROGRESS: at 1.59% examples, 248 words/s, in_qsize 6, out_qsize 0\n",
      "INFO - 00:26:12: EPOCH 22 - PROGRESS: at 4.80% examples, 708 words/s, in_qsize 5, out_qsize 0\n",
      "INFO - 00:26:25: EPOCH 22 - PROGRESS: at 6.42% examples, 512 words/s, in_qsize 5, out_qsize 0\n",
      "INFO - 00:26:26: EPOCH 22 - PROGRESS: at 9.96% examples, 738 words/s, in_qsize 5, out_qsize 0\n",
      "INFO - 00:26:40: EPOCH 22 - PROGRESS: at 11.55% examples, 595 words/s, in_qsize 5, out_qsize 0\n",
      "INFO - 00:26:54: EPOCH 22 - PROGRESS: at 16.19% examples, 638 words/s, in_qsize 5, out_qsize 0\n",
      "INFO - 00:26:55: EPOCH 22 - PROGRESS: at 19.27% examples, 753 words/s, in_qsize 5, out_qsize 0\n",
      "INFO - 00:27:08: EPOCH 22 - PROGRESS: at 20.82% examples, 665 words/s, in_qsize 6, out_qsize 0\n",
      "INFO - 00:27:22: EPOCH 22 - PROGRESS: at 25.54% examples, 679 words/s, in_qsize 6, out_qsize 0\n",
      "INFO - 00:27:36: EPOCH 22 - PROGRESS: at 30.45% examples, 694 words/s, in_qsize 6, out_qsize 0\n",
      "INFO - 00:27:50: EPOCH 22 - PROGRESS: at 35.62% examples, 703 words/s, in_qsize 6, out_qsize 0\n",
      "INFO - 00:28:04: EPOCH 22 - PROGRESS: at 40.98% examples, 713 words/s, in_qsize 6, out_qsize 0\n",
      "INFO - 00:28:18: EPOCH 22 - PROGRESS: at 46.58% examples, 719 words/s, in_qsize 6, out_qsize 0\n",
      "INFO - 00:28:19: EPOCH 22 - PROGRESS: at 50.05% examples, 765 words/s, in_qsize 5, out_qsize 0\n",
      "INFO - 00:28:32: EPOCH 22 - PROGRESS: at 51.75% examples, 723 words/s, in_qsize 6, out_qsize 0\n",
      "INFO - 00:28:34: EPOCH 22 - PROGRESS: at 55.11% examples, 763 words/s, in_qsize 6, out_qsize 0\n",
      "INFO - 00:28:47: EPOCH 22 - PROGRESS: at 56.77% examples, 727 words/s, in_qsize 6, out_qsize 0\n",
      "INFO - 00:28:48: EPOCH 22 - PROGRESS: at 60.07% examples, 765 words/s, in_qsize 6, out_qsize 0\n",
      "INFO - 00:29:01: EPOCH 22 - PROGRESS: at 61.73% examples, 728 words/s, in_qsize 5, out_qsize 0\n",
      "INFO - 00:29:03: EPOCH 22 - PROGRESS: at 65.09% examples, 762 words/s, in_qsize 5, out_qsize 0\n",
      "INFO - 00:29:16: EPOCH 22 - PROGRESS: at 66.81% examples, 729 words/s, in_qsize 5, out_qsize 0\n",
      "INFO - 00:29:17: EPOCH 22 - PROGRESS: at 70.09% examples, 762 words/s, in_qsize 5, out_qsize 0\n",
      "INFO - 00:29:31: EPOCH 22 - PROGRESS: at 71.73% examples, 730 words/s, in_qsize 5, out_qsize 0\n",
      "INFO - 00:29:33: EPOCH 22 - PROGRESS: at 75.05% examples, 759 words/s, in_qsize 5, out_qsize 0\n",
      "INFO - 00:29:46: EPOCH 22 - PROGRESS: at 76.68% examples, 733 words/s, in_qsize 6, out_qsize 0\n"
     ]
    },
    {
     "name": "stderr",
     "output_type": "stream",
     "text": [
      "INFO - 00:29:47: EPOCH 22 - PROGRESS: at 80.01% examples, 761 words/s, in_qsize 6, out_qsize 0\n",
      "INFO - 00:30:00: EPOCH 22 - PROGRESS: at 81.64% examples, 735 words/s, in_qsize 6, out_qsize 0\n",
      "INFO - 00:30:01: EPOCH 22 - PROGRESS: at 84.97% examples, 762 words/s, in_qsize 5, out_qsize 0\n",
      "INFO - 00:30:14: EPOCH 22 - PROGRESS: at 86.72% examples, 738 words/s, in_qsize 5, out_qsize 0\n",
      "INFO - 00:30:16: EPOCH 22 - PROGRESS: at 90.09% examples, 762 words/s, in_qsize 6, out_qsize 0\n",
      "INFO - 00:30:28: EPOCH 22 - PROGRESS: at 91.80% examples, 741 words/s, in_qsize 5, out_qsize 0\n",
      "INFO - 00:30:29: EPOCH 22 - PROGRESS: at 95.04% examples, 763 words/s, in_qsize 4, out_qsize 0\n",
      "INFO - 00:30:42: EPOCH 22 - PROGRESS: at 96.63% examples, 743 words/s, in_qsize 3, out_qsize 0\n",
      "INFO - 00:30:43: EPOCH 22 - PROGRESS: at 98.21% examples, 753 words/s, in_qsize 2, out_qsize 1\n",
      "INFO - 00:30:43: worker thread finished; awaiting finish of 2 more threads\n",
      "INFO - 00:30:43: worker thread finished; awaiting finish of 1 more threads\n",
      "INFO - 00:30:43: worker thread finished; awaiting finish of 0 more threads\n",
      "INFO - 00:30:43: EPOCH - 22 : training on 601119 raw words (219309 effective words) took 286.2s, 766 effective words/s\n",
      "INFO - 00:30:57: EPOCH 23 - PROGRESS: at 1.66% examples, 245 words/s, in_qsize 5, out_qsize 0\n",
      "INFO - 00:31:11: EPOCH 23 - PROGRESS: at 6.42% examples, 508 words/s, in_qsize 5, out_qsize 0\n",
      "INFO - 00:31:26: EPOCH 23 - PROGRESS: at 11.55% examples, 595 words/s, in_qsize 5, out_qsize 0\n",
      "INFO - 00:31:40: EPOCH 23 - PROGRESS: at 16.19% examples, 635 words/s, in_qsize 5, out_qsize 0\n",
      "INFO - 00:31:54: EPOCH 23 - PROGRESS: at 20.71% examples, 664 words/s, in_qsize 6, out_qsize 0\n",
      "INFO - 00:32:08: EPOCH 23 - PROGRESS: at 25.38% examples, 680 words/s, in_qsize 5, out_qsize 0\n",
      "INFO - 00:32:22: EPOCH 23 - PROGRESS: at 30.45% examples, 694 words/s, in_qsize 6, out_qsize 0\n",
      "INFO - 00:32:36: EPOCH 23 - PROGRESS: at 35.62% examples, 704 words/s, in_qsize 5, out_qsize 0\n",
      "INFO - 00:32:50: EPOCH 23 - PROGRESS: at 40.97% examples, 711 words/s, in_qsize 6, out_qsize 0\n",
      "INFO - 00:33:04: EPOCH 23 - PROGRESS: at 46.58% examples, 717 words/s, in_qsize 5, out_qsize 0\n",
      "INFO - 00:33:19: EPOCH 23 - PROGRESS: at 51.75% examples, 722 words/s, in_qsize 6, out_qsize 0\n",
      "INFO - 00:33:20: EPOCH 23 - PROGRESS: at 55.11% examples, 764 words/s, in_qsize 5, out_qsize 0\n",
      "INFO - 00:33:33: EPOCH 23 - PROGRESS: at 56.73% examples, 727 words/s, in_qsize 5, out_qsize 0\n",
      "INFO - 00:33:44: EPOCH 23 - PROGRESS: at 61.78% examples, 741 words/s, in_qsize 5, out_qsize 0\n",
      "INFO - 00:33:56: EPOCH 23 - PROGRESS: at 66.76% examples, 754 words/s, in_qsize 6, out_qsize 0\n",
      "INFO - 00:34:08: EPOCH 23 - PROGRESS: at 71.73% examples, 765 words/s, in_qsize 5, out_qsize 0\n",
      "INFO - 00:34:20: EPOCH 23 - PROGRESS: at 76.68% examples, 773 words/s, in_qsize 5, out_qsize 0\n",
      "INFO - 00:34:32: EPOCH 23 - PROGRESS: at 81.64% examples, 781 words/s, in_qsize 6, out_qsize 0\n",
      "INFO - 00:34:43: EPOCH 23 - PROGRESS: at 86.69% examples, 791 words/s, in_qsize 6, out_qsize 0\n",
      "INFO - 00:34:54: EPOCH 23 - PROGRESS: at 91.80% examples, 798 words/s, in_qsize 5, out_qsize 0\n",
      "INFO - 00:35:05: EPOCH 23 - PROGRESS: at 96.63% examples, 807 words/s, in_qsize 3, out_qsize 0\n",
      "INFO - 00:35:06: worker thread finished; awaiting finish of 2 more threads\n",
      "INFO - 00:35:06: worker thread finished; awaiting finish of 1 more threads\n",
      "INFO - 00:35:06: worker thread finished; awaiting finish of 0 more threads\n",
      "INFO - 00:35:06: EPOCH - 23 : training on 601119 raw words (219297 effective words) took 263.1s, 834 effective words/s\n",
      "INFO - 00:35:17: EPOCH 24 - PROGRESS: at 1.66% examples, 307 words/s, in_qsize 5, out_qsize 0\n",
      "INFO - 00:35:28: EPOCH 24 - PROGRESS: at 6.42% examples, 637 words/s, in_qsize 5, out_qsize 0\n",
      "INFO - 00:35:30: EPOCH 24 - PROGRESS: at 9.96% examples, 919 words/s, in_qsize 5, out_qsize 0\n",
      "INFO - 00:35:40: EPOCH 24 - PROGRESS: at 11.55% examples, 741 words/s, in_qsize 6, out_qsize 0\n",
      "INFO - 00:35:52: EPOCH 24 - PROGRESS: at 16.19% examples, 792 words/s, in_qsize 5, out_qsize 0\n",
      "INFO - 00:36:04: EPOCH 24 - PROGRESS: at 20.71% examples, 821 words/s, in_qsize 6, out_qsize 0\n",
      "INFO - 00:36:15: EPOCH 24 - PROGRESS: at 25.38% examples, 842 words/s, in_qsize 6, out_qsize 0\n",
      "INFO - 00:36:26: EPOCH 24 - PROGRESS: at 30.45% examples, 859 words/s, in_qsize 5, out_qsize 0\n",
      "INFO - 00:36:37: EPOCH 24 - PROGRESS: at 35.62% examples, 872 words/s, in_qsize 6, out_qsize 0\n",
      "INFO - 00:36:39: EPOCH 24 - PROGRESS: at 39.12% examples, 938 words/s, in_qsize 5, out_qsize 0\n",
      "INFO - 00:36:49: EPOCH 24 - PROGRESS: at 40.98% examples, 883 words/s, in_qsize 6, out_qsize 0\n",
      "INFO - 00:36:50: EPOCH 24 - PROGRESS: at 44.72% examples, 943 words/s, in_qsize 6, out_qsize 0\n",
      "INFO - 00:37:00: EPOCH 24 - PROGRESS: at 46.58% examples, 890 words/s, in_qsize 6, out_qsize 0\n",
      "INFO - 00:37:01: EPOCH 24 - PROGRESS: at 48.35% examples, 913 words/s, in_qsize 6, out_qsize 0\n",
      "INFO - 00:37:12: EPOCH 24 - PROGRESS: at 51.75% examples, 894 words/s, in_qsize 6, out_qsize 0\n",
      "INFO - 00:37:13: EPOCH 24 - PROGRESS: at 55.11% examples, 940 words/s, in_qsize 5, out_qsize 0\n",
      "INFO - 00:37:23: EPOCH 24 - PROGRESS: at 56.77% examples, 899 words/s, in_qsize 5, out_qsize 0\n",
      "INFO - 00:37:25: EPOCH 24 - PROGRESS: at 60.07% examples, 941 words/s, in_qsize 5, out_qsize 0\n",
      "INFO - 00:37:35: EPOCH 24 - PROGRESS: at 61.73% examples, 902 words/s, in_qsize 5, out_qsize 0\n",
      "INFO - 00:37:36: EPOCH 24 - PROGRESS: at 65.09% examples, 942 words/s, in_qsize 5, out_qsize 0\n",
      "INFO - 00:37:47: EPOCH 24 - PROGRESS: at 66.76% examples, 904 words/s, in_qsize 5, out_qsize 0\n",
      "INFO - 00:37:58: EPOCH 24 - PROGRESS: at 71.73% examples, 908 words/s, in_qsize 6, out_qsize 0\n",
      "INFO - 00:38:00: EPOCH 24 - PROGRESS: at 75.05% examples, 943 words/s, in_qsize 6, out_qsize 0\n",
      "INFO - 00:38:10: EPOCH 24 - PROGRESS: at 76.68% examples, 911 words/s, in_qsize 6, out_qsize 0\n",
      "INFO - 00:38:11: EPOCH 24 - PROGRESS: at 80.01% examples, 944 words/s, in_qsize 6, out_qsize 0\n",
      "INFO - 00:38:22: EPOCH 24 - PROGRESS: at 81.64% examples, 912 words/s, in_qsize 5, out_qsize 0\n",
      "INFO - 00:38:33: EPOCH 24 - PROGRESS: at 86.72% examples, 915 words/s, in_qsize 5, out_qsize 0\n",
      "INFO - 00:38:45: EPOCH 24 - PROGRESS: at 91.80% examples, 918 words/s, in_qsize 6, out_qsize 0\n",
      "INFO - 00:38:55: EPOCH 24 - PROGRESS: at 96.63% examples, 923 words/s, in_qsize 3, out_qsize 0\n",
      "INFO - 00:38:56: worker thread finished; awaiting finish of 2 more threads\n",
      "INFO - 00:38:57: EPOCH 24 - PROGRESS: at 99.79% examples, 950 words/s, in_qsize 1, out_qsize 1\n",
      "INFO - 00:38:57: worker thread finished; awaiting finish of 1 more threads\n",
      "INFO - 00:38:57: worker thread finished; awaiting finish of 0 more threads\n",
      "INFO - 00:38:57: EPOCH - 24 : training on 601119 raw words (219341 effective words) took 230.5s, 951 effective words/s\n",
      "INFO - 00:39:08: EPOCH 25 - PROGRESS: at 1.66% examples, 309 words/s, in_qsize 6, out_qsize 0\n",
      "INFO - 00:39:21: EPOCH 25 - PROGRESS: at 6.42% examples, 602 words/s, in_qsize 5, out_qsize 0\n",
      "INFO - 00:39:22: EPOCH 25 - PROGRESS: at 9.96% examples, 867 words/s, in_qsize 5, out_qsize 0\n",
      "INFO - 00:39:33: EPOCH 25 - PROGRESS: at 11.51% examples, 702 words/s, in_qsize 5, out_qsize 0\n",
      "INFO - 00:39:44: EPOCH 25 - PROGRESS: at 16.19% examples, 764 words/s, in_qsize 6, out_qsize 0\n",
      "INFO - 00:39:56: EPOCH 25 - PROGRESS: at 20.82% examples, 803 words/s, in_qsize 6, out_qsize 0\n",
      "INFO - 00:40:07: EPOCH 25 - PROGRESS: at 25.38% examples, 828 words/s, in_qsize 5, out_qsize 0\n",
      "INFO - 00:40:18: EPOCH 25 - PROGRESS: at 30.45% examples, 844 words/s, in_qsize 6, out_qsize 0\n",
      "INFO - 00:40:30: EPOCH 25 - PROGRESS: at 35.62% examples, 856 words/s, in_qsize 6, out_qsize 0\n",
      "INFO - 00:40:41: EPOCH 25 - PROGRESS: at 40.98% examples, 869 words/s, in_qsize 6, out_qsize 0\n",
      "INFO - 00:40:52: EPOCH 25 - PROGRESS: at 46.58% examples, 878 words/s, in_qsize 6, out_qsize 0\n",
      "INFO - 00:40:53: EPOCH 25 - PROGRESS: at 50.05% examples, 932 words/s, in_qsize 5, out_qsize 0\n",
      "INFO - 00:41:04: EPOCH 25 - PROGRESS: at 51.75% examples, 885 words/s, in_qsize 5, out_qsize 0\n",
      "INFO - 00:41:05: EPOCH 25 - PROGRESS: at 55.11% examples, 932 words/s, in_qsize 5, out_qsize 0\n",
      "INFO - 00:41:16: EPOCH 25 - PROGRESS: at 56.77% examples, 890 words/s, in_qsize 6, out_qsize 0\n",
      "INFO - 00:41:17: EPOCH 25 - PROGRESS: at 60.07% examples, 936 words/s, in_qsize 5, out_qsize 0\n",
      "INFO - 00:41:27: EPOCH 25 - PROGRESS: at 61.73% examples, 893 words/s, in_qsize 5, out_qsize 0\n",
      "INFO - 00:41:29: EPOCH 25 - PROGRESS: at 65.09% examples, 935 words/s, in_qsize 5, out_qsize 0\n",
      "INFO - 00:41:39: EPOCH 25 - PROGRESS: at 66.76% examples, 896 words/s, in_qsize 5, out_qsize 0\n",
      "INFO - 00:41:51: EPOCH 25 - PROGRESS: at 71.73% examples, 901 words/s, in_qsize 5, out_qsize 0\n",
      "INFO - 00:41:52: EPOCH 25 - PROGRESS: at 75.05% examples, 937 words/s, in_qsize 6, out_qsize 0\n",
      "INFO - 00:42:02: EPOCH 25 - PROGRESS: at 76.68% examples, 905 words/s, in_qsize 6, out_qsize 0\n",
      "INFO - 00:42:14: EPOCH 25 - PROGRESS: at 81.64% examples, 907 words/s, in_qsize 5, out_qsize 0\n",
      "INFO - 00:42:25: EPOCH 25 - PROGRESS: at 86.69% examples, 910 words/s, in_qsize 5, out_qsize 0\n",
      "INFO - 00:42:37: EPOCH 25 - PROGRESS: at 91.80% examples, 913 words/s, in_qsize 5, out_qsize 0\n",
      "INFO - 00:42:48: EPOCH 25 - PROGRESS: at 96.63% examples, 916 words/s, in_qsize 3, out_qsize 0\n",
      "INFO - 00:42:48: worker thread finished; awaiting finish of 2 more threads\n",
      "INFO - 00:42:48: worker thread finished; awaiting finish of 1 more threads\n",
      "INFO - 00:42:49: worker thread finished; awaiting finish of 0 more threads\n",
      "INFO - 00:42:49: EPOCH - 25 : training on 601119 raw words (219648 effective words) took 232.0s, 947 effective words/s\n",
      "INFO - 00:43:00: EPOCH 26 - PROGRESS: at 1.66% examples, 309 words/s, in_qsize 6, out_qsize 0\n",
      "INFO - 00:43:11: EPOCH 26 - PROGRESS: at 6.42% examples, 637 words/s, in_qsize 6, out_qsize 0\n",
      "INFO - 00:43:23: EPOCH 26 - PROGRESS: at 11.55% examples, 745 words/s, in_qsize 6, out_qsize 0\n",
      "INFO - 00:43:34: EPOCH 26 - PROGRESS: at 16.19% examples, 797 words/s, in_qsize 5, out_qsize 0\n",
      "INFO - 00:43:35: EPOCH 26 - PROGRESS: at 19.27% examples, 936 words/s, in_qsize 6, out_qsize 0\n",
      "INFO - 00:43:46: EPOCH 26 - PROGRESS: at 20.82% examples, 825 words/s, in_qsize 6, out_qsize 0\n",
      "INFO - 00:43:57: EPOCH 26 - PROGRESS: at 25.54% examples, 845 words/s, in_qsize 6, out_qsize 0\n",
      "INFO - 00:44:08: EPOCH 26 - PROGRESS: at 30.45% examples, 862 words/s, in_qsize 6, out_qsize 0\n",
      "INFO - 00:44:20: EPOCH 26 - PROGRESS: at 35.62% examples, 874 words/s, in_qsize 6, out_qsize 0\n",
      "INFO - 00:44:21: EPOCH 26 - PROGRESS: at 39.12% examples, 942 words/s, in_qsize 6, out_qsize 0\n",
      "INFO - 00:44:31: EPOCH 26 - PROGRESS: at 40.98% examples, 884 words/s, in_qsize 5, out_qsize 0\n",
      "INFO - 00:44:42: EPOCH 26 - PROGRESS: at 46.58% examples, 890 words/s, in_qsize 6, out_qsize 0\n",
      "INFO - 00:44:54: EPOCH 26 - PROGRESS: at 51.75% examples, 894 words/s, in_qsize 5, out_qsize 0\n",
      "INFO - 00:44:55: EPOCH 26 - PROGRESS: at 55.11% examples, 946 words/s, in_qsize 6, out_qsize 0\n",
      "INFO - 00:45:06: EPOCH 26 - PROGRESS: at 56.77% examples, 896 words/s, in_qsize 6, out_qsize 0\n",
      "INFO - 00:45:18: EPOCH 26 - PROGRESS: at 61.73% examples, 897 words/s, in_qsize 6, out_qsize 0\n",
      "INFO - 00:45:30: EPOCH 26 - PROGRESS: at 66.69% examples, 902 words/s, in_qsize 5, out_qsize 0\n",
      "INFO - 00:45:41: EPOCH 26 - PROGRESS: at 71.73% examples, 906 words/s, in_qsize 6, out_qsize 0\n",
      "INFO - 00:45:53: EPOCH 26 - PROGRESS: at 76.68% examples, 908 words/s, in_qsize 6, out_qsize 0\n",
      "INFO - 00:46:04: EPOCH 26 - PROGRESS: at 81.64% examples, 911 words/s, in_qsize 6, out_qsize 0\n",
      "INFO - 00:46:16: EPOCH 26 - PROGRESS: at 86.72% examples, 913 words/s, in_qsize 5, out_qsize 0\n",
      "INFO - 00:46:27: EPOCH 26 - PROGRESS: at 91.74% examples, 916 words/s, in_qsize 5, out_qsize 0\n",
      "INFO - 00:46:38: EPOCH 26 - PROGRESS: at 96.63% examples, 920 words/s, in_qsize 3, out_qsize 0\n",
      "INFO - 00:46:39: worker thread finished; awaiting finish of 2 more threads\n",
      "INFO - 00:46:39: worker thread finished; awaiting finish of 1 more threads\n",
      "INFO - 00:46:39: worker thread finished; awaiting finish of 0 more threads\n",
      "INFO - 00:46:39: EPOCH - 26 : training on 601119 raw words (218944 effective words) took 230.2s, 951 effective words/s\n",
      "INFO - 00:46:50: EPOCH 27 - PROGRESS: at 1.66% examples, 309 words/s, in_qsize 6, out_qsize 0\n",
      "INFO - 00:47:02: EPOCH 27 - PROGRESS: at 6.42% examples, 627 words/s, in_qsize 6, out_qsize 0\n",
      "INFO - 00:47:03: EPOCH 27 - PROGRESS: at 8.21% examples, 757 words/s, in_qsize 6, out_qsize 0\n",
      "INFO - 00:47:13: EPOCH 27 - PROGRESS: at 11.55% examples, 739 words/s, in_qsize 5, out_qsize 0\n",
      "INFO - 00:47:25: EPOCH 27 - PROGRESS: at 16.19% examples, 790 words/s, in_qsize 5, out_qsize 0\n",
      "INFO - 00:47:36: EPOCH 27 - PROGRESS: at 20.71% examples, 823 words/s, in_qsize 6, out_qsize 0\n",
      "INFO - 00:47:48: EPOCH 27 - PROGRESS: at 25.38% examples, 843 words/s, in_qsize 6, out_qsize 0\n",
      "INFO - 00:47:59: EPOCH 27 - PROGRESS: at 30.45% examples, 859 words/s, in_qsize 6, out_qsize 0\n",
      "INFO - 00:48:10: EPOCH 27 - PROGRESS: at 35.62% examples, 870 words/s, in_qsize 6, out_qsize 0\n",
      "INFO - 00:48:22: EPOCH 27 - PROGRESS: at 40.98% examples, 880 words/s, in_qsize 5, out_qsize 0\n",
      "INFO - 00:48:33: EPOCH 27 - PROGRESS: at 46.58% examples, 888 words/s, in_qsize 5, out_qsize 0\n",
      "INFO - 00:48:34: EPOCH 27 - PROGRESS: at 50.05% examples, 943 words/s, in_qsize 5, out_qsize 0\n",
      "INFO - 00:48:44: EPOCH 27 - PROGRESS: at 51.75% examples, 894 words/s, in_qsize 5, out_qsize 0\n",
      "INFO - 00:48:46: EPOCH 27 - PROGRESS: at 55.11% examples, 942 words/s, in_qsize 5, out_qsize 0\n",
      "INFO - 00:48:56: EPOCH 27 - PROGRESS: at 56.73% examples, 897 words/s, in_qsize 5, out_qsize 0\n",
      "INFO - 00:49:08: EPOCH 27 - PROGRESS: at 61.73% examples, 901 words/s, in_qsize 5, out_qsize 0\n",
      "INFO - 00:49:09: EPOCH 27 - PROGRESS: at 65.09% examples, 942 words/s, in_qsize 5, out_qsize 0\n",
      "INFO - 00:49:20: EPOCH 27 - PROGRESS: at 66.81% examples, 899 words/s, in_qsize 5, out_qsize 0\n",
      "INFO - 00:49:33: EPOCH 27 - PROGRESS: at 71.73% examples, 895 words/s, in_qsize 6, out_qsize 0\n",
      "INFO - 00:49:35: EPOCH 27 - PROGRESS: at 75.05% examples, 930 words/s, in_qsize 5, out_qsize 0\n",
      "INFO - 00:49:45: EPOCH 27 - PROGRESS: at 76.75% examples, 899 words/s, in_qsize 6, out_qsize 0\n",
      "INFO - 00:49:46: EPOCH 27 - PROGRESS: at 80.01% examples, 931 words/s, in_qsize 6, out_qsize 0\n",
      "INFO - 00:49:57: EPOCH 27 - PROGRESS: at 81.64% examples, 901 words/s, in_qsize 5, out_qsize 0\n",
      "INFO - 00:49:58: EPOCH 27 - PROGRESS: at 84.97% examples, 933 words/s, in_qsize 5, out_qsize 0\n",
      "INFO - 00:50:08: EPOCH 27 - PROGRESS: at 86.69% examples, 904 words/s, in_qsize 5, out_qsize 0\n",
      "INFO - 00:50:10: EPOCH 27 - PROGRESS: at 90.09% examples, 934 words/s, in_qsize 5, out_qsize 0\n",
      "INFO - 00:50:20: EPOCH 27 - PROGRESS: at 91.80% examples, 907 words/s, in_qsize 6, out_qsize 0\n",
      "INFO - 00:50:21: EPOCH 27 - PROGRESS: at 95.04% examples, 935 words/s, in_qsize 4, out_qsize 0\n",
      "INFO - 00:50:31: EPOCH 27 - PROGRESS: at 96.63% examples, 910 words/s, in_qsize 3, out_qsize 0\n",
      "INFO - 00:50:31: worker thread finished; awaiting finish of 2 more threads\n",
      "INFO - 00:50:32: worker thread finished; awaiting finish of 1 more threads\n",
      "INFO - 00:50:32: worker thread finished; awaiting finish of 0 more threads\n",
      "INFO - 00:50:32: EPOCH - 27 : training on 601119 raw words (218798 effective words) took 232.8s, 940 effective words/s\n",
      "INFO - 00:50:43: EPOCH 28 - PROGRESS: at 1.66% examples, 311 words/s, in_qsize 6, out_qsize 0\n",
      "INFO - 00:50:54: EPOCH 28 - PROGRESS: at 6.42% examples, 641 words/s, in_qsize 5, out_qsize 0\n",
      "INFO - 00:50:55: EPOCH 28 - PROGRESS: at 9.96% examples, 918 words/s, in_qsize 5, out_qsize 0\n",
      "INFO - 00:51:06: EPOCH 28 - PROGRESS: at 11.55% examples, 745 words/s, in_qsize 6, out_qsize 0\n",
      "INFO - 00:51:07: EPOCH 28 - PROGRESS: at 14.61% examples, 927 words/s, in_qsize 6, out_qsize 0\n",
      "INFO - 00:51:18: EPOCH 28 - PROGRESS: at 16.19% examples, 791 words/s, in_qsize 5, out_qsize 0\n",
      "INFO - 00:51:19: EPOCH 28 - PROGRESS: at 19.27% examples, 929 words/s, in_qsize 6, out_qsize 0\n",
      "INFO - 00:51:29: EPOCH 28 - PROGRESS: at 20.82% examples, 822 words/s, in_qsize 6, out_qsize 0\n",
      "INFO - 00:51:40: EPOCH 28 - PROGRESS: at 25.38% examples, 843 words/s, in_qsize 5, out_qsize 0\n",
      "INFO - 00:51:52: EPOCH 28 - PROGRESS: at 30.45% examples, 858 words/s, in_qsize 6, out_qsize 0\n",
      "INFO - 00:52:03: EPOCH 28 - PROGRESS: at 35.62% examples, 872 words/s, in_qsize 6, out_qsize 0\n",
      "INFO - 00:52:14: EPOCH 28 - PROGRESS: at 40.98% examples, 884 words/s, in_qsize 5, out_qsize 0\n"
     ]
    },
    {
     "name": "stderr",
     "output_type": "stream",
     "text": [
      "INFO - 00:52:26: EPOCH 28 - PROGRESS: at 46.58% examples, 888 words/s, in_qsize 5, out_qsize 0\n",
      "INFO - 00:52:37: EPOCH 28 - PROGRESS: at 51.75% examples, 894 words/s, in_qsize 6, out_qsize 0\n",
      "INFO - 00:52:38: EPOCH 28 - PROGRESS: at 55.11% examples, 944 words/s, in_qsize 6, out_qsize 0\n",
      "INFO - 00:52:49: EPOCH 28 - PROGRESS: at 56.77% examples, 898 words/s, in_qsize 5, out_qsize 0\n",
      "INFO - 00:53:01: EPOCH 28 - PROGRESS: at 61.78% examples, 901 words/s, in_qsize 5, out_qsize 0\n",
      "INFO - 00:53:12: EPOCH 28 - PROGRESS: at 66.76% examples, 905 words/s, in_qsize 6, out_qsize 0\n",
      "INFO - 00:53:23: EPOCH 28 - PROGRESS: at 71.73% examples, 909 words/s, in_qsize 5, out_qsize 0\n",
      "INFO - 00:53:35: EPOCH 28 - PROGRESS: at 76.75% examples, 910 words/s, in_qsize 6, out_qsize 0\n",
      "INFO - 00:53:47: EPOCH 28 - PROGRESS: at 81.64% examples, 913 words/s, in_qsize 5, out_qsize 0\n",
      "INFO - 00:53:59: EPOCH 28 - PROGRESS: at 86.72% examples, 915 words/s, in_qsize 5, out_qsize 0\n",
      "INFO - 00:54:10: EPOCH 28 - PROGRESS: at 91.80% examples, 919 words/s, in_qsize 6, out_qsize 0\n",
      "INFO - 00:54:21: EPOCH 28 - PROGRESS: at 96.63% examples, 922 words/s, in_qsize 3, out_qsize 0\n",
      "INFO - 00:54:21: worker thread finished; awaiting finish of 2 more threads\n",
      "INFO - 00:54:21: worker thread finished; awaiting finish of 1 more threads\n",
      "INFO - 00:54:21: worker thread finished; awaiting finish of 0 more threads\n",
      "INFO - 00:54:21: EPOCH - 28 : training on 601119 raw words (219110 effective words) took 229.8s, 953 effective words/s\n",
      "INFO - 00:54:34: EPOCH 29 - PROGRESS: at 1.66% examples, 285 words/s, in_qsize 6, out_qsize 0\n",
      "INFO - 00:54:45: EPOCH 29 - PROGRESS: at 6.42% examples, 609 words/s, in_qsize 5, out_qsize 0\n",
      "INFO - 00:54:46: EPOCH 29 - PROGRESS: at 9.96% examples, 882 words/s, in_qsize 5, out_qsize 0\n",
      "INFO - 00:54:57: EPOCH 29 - PROGRESS: at 11.55% examples, 721 words/s, in_qsize 5, out_qsize 1\n",
      "INFO - 00:55:08: EPOCH 29 - PROGRESS: at 16.16% examples, 780 words/s, in_qsize 5, out_qsize 0\n",
      "INFO - 00:55:20: EPOCH 29 - PROGRESS: at 20.82% examples, 808 words/s, in_qsize 6, out_qsize 0\n",
      "INFO - 00:55:31: EPOCH 29 - PROGRESS: at 25.54% examples, 831 words/s, in_qsize 5, out_qsize 0\n",
      "INFO - 00:55:43: EPOCH 29 - PROGRESS: at 30.45% examples, 847 words/s, in_qsize 6, out_qsize 0\n",
      "INFO - 00:55:44: EPOCH 29 - PROGRESS: at 33.89% examples, 925 words/s, in_qsize 5, out_qsize 0\n",
      "INFO - 00:55:54: EPOCH 29 - PROGRESS: at 35.62% examples, 863 words/s, in_qsize 6, out_qsize 0\n",
      "INFO - 00:55:56: EPOCH 29 - PROGRESS: at 39.12% examples, 927 words/s, in_qsize 6, out_qsize 0\n",
      "INFO - 00:56:05: EPOCH 29 - PROGRESS: at 40.98% examples, 875 words/s, in_qsize 6, out_qsize 0\n",
      "INFO - 00:56:06: EPOCH 29 - PROGRESS: at 44.72% examples, 932 words/s, in_qsize 6, out_qsize 0\n",
      "INFO - 00:56:16: EPOCH 29 - PROGRESS: at 46.58% examples, 883 words/s, in_qsize 5, out_qsize 0\n",
      "INFO - 00:56:18: EPOCH 29 - PROGRESS: at 48.28% examples, 905 words/s, in_qsize 6, out_qsize 0\n",
      "INFO - 00:56:28: EPOCH 29 - PROGRESS: at 51.75% examples, 889 words/s, in_qsize 5, out_qsize 0\n",
      "INFO - 00:56:29: EPOCH 29 - PROGRESS: at 55.11% examples, 935 words/s, in_qsize 5, out_qsize 0\n",
      "INFO - 00:56:40: EPOCH 29 - PROGRESS: at 56.77% examples, 893 words/s, in_qsize 5, out_qsize 0\n",
      "INFO - 00:56:41: EPOCH 29 - PROGRESS: at 60.07% examples, 938 words/s, in_qsize 6, out_qsize 0\n",
      "INFO - 00:56:52: EPOCH 29 - PROGRESS: at 61.73% examples, 896 words/s, in_qsize 6, out_qsize 0\n",
      "INFO - 00:56:53: EPOCH 29 - PROGRESS: at 65.09% examples, 937 words/s, in_qsize 5, out_qsize 0\n",
      "INFO - 00:57:03: EPOCH 29 - PROGRESS: at 66.76% examples, 899 words/s, in_qsize 5, out_qsize 0\n",
      "INFO - 00:57:15: EPOCH 29 - PROGRESS: at 71.73% examples, 903 words/s, in_qsize 6, out_qsize 0\n",
      "INFO - 00:57:16: EPOCH 29 - PROGRESS: at 75.05% examples, 939 words/s, in_qsize 6, out_qsize 0\n",
      "INFO - 00:57:27: EPOCH 29 - PROGRESS: at 76.68% examples, 906 words/s, in_qsize 6, out_qsize 0\n",
      "INFO - 00:57:38: EPOCH 29 - PROGRESS: at 81.64% examples, 909 words/s, in_qsize 6, out_qsize 0\n",
      "INFO - 00:57:50: EPOCH 29 - PROGRESS: at 86.72% examples, 911 words/s, in_qsize 5, out_qsize 0\n",
      "INFO - 00:58:01: EPOCH 29 - PROGRESS: at 91.80% examples, 915 words/s, in_qsize 5, out_qsize 0\n",
      "INFO - 00:58:12: EPOCH 29 - PROGRESS: at 96.63% examples, 919 words/s, in_qsize 3, out_qsize 0\n",
      "INFO - 00:58:13: worker thread finished; awaiting finish of 2 more threads\n",
      "INFO - 00:58:13: EPOCH 29 - PROGRESS: at 99.79% examples, 946 words/s, in_qsize 1, out_qsize 1\n",
      "INFO - 00:58:13: worker thread finished; awaiting finish of 1 more threads\n",
      "INFO - 00:58:13: worker thread finished; awaiting finish of 0 more threads\n",
      "INFO - 00:58:13: EPOCH - 29 : training on 601119 raw words (219430 effective words) took 231.6s, 948 effective words/s\n",
      "INFO - 00:58:24: EPOCH 30 - PROGRESS: at 1.66% examples, 313 words/s, in_qsize 6, out_qsize 0\n",
      "INFO - 00:58:35: EPOCH 30 - PROGRESS: at 6.42% examples, 643 words/s, in_qsize 5, out_qsize 0\n",
      "INFO - 00:58:36: EPOCH 30 - PROGRESS: at 9.96% examples, 930 words/s, in_qsize 5, out_qsize 0\n",
      "INFO - 00:58:47: EPOCH 30 - PROGRESS: at 11.55% examples, 745 words/s, in_qsize 5, out_qsize 0\n",
      "INFO - 00:58:59: EPOCH 30 - PROGRESS: at 16.19% examples, 796 words/s, in_qsize 5, out_qsize 0\n",
      "INFO - 00:59:10: EPOCH 30 - PROGRESS: at 20.82% examples, 826 words/s, in_qsize 6, out_qsize 0\n",
      "INFO - 00:59:22: EPOCH 30 - PROGRESS: at 25.38% examples, 847 words/s, in_qsize 5, out_qsize 0\n",
      "INFO - 00:59:35: EPOCH 30 - PROGRESS: at 30.45% examples, 845 words/s, in_qsize 6, out_qsize 0\n",
      "INFO - 00:59:46: EPOCH 30 - PROGRESS: at 35.65% examples, 863 words/s, in_qsize 5, out_qsize 0\n",
      "INFO - 00:59:57: EPOCH 30 - PROGRESS: at 40.98% examples, 876 words/s, in_qsize 6, out_qsize 0\n",
      "INFO - 01:00:08: EPOCH 30 - PROGRESS: at 46.58% examples, 881 words/s, in_qsize 6, out_qsize 0\n",
      "INFO - 01:00:09: EPOCH 30 - PROGRESS: at 50.05% examples, 936 words/s, in_qsize 5, out_qsize 0\n",
      "INFO - 01:00:20: EPOCH 30 - PROGRESS: at 51.75% examples, 888 words/s, in_qsize 5, out_qsize 0\n",
      "INFO - 01:00:21: EPOCH 30 - PROGRESS: at 55.11% examples, 936 words/s, in_qsize 6, out_qsize 0\n",
      "INFO - 01:00:32: EPOCH 30 - PROGRESS: at 56.73% examples, 891 words/s, in_qsize 6, out_qsize 0\n",
      "INFO - 01:00:43: EPOCH 30 - PROGRESS: at 61.78% examples, 896 words/s, in_qsize 6, out_qsize 0\n",
      "INFO - 01:00:44: EPOCH 30 - PROGRESS: at 65.09% examples, 940 words/s, in_qsize 6, out_qsize 0\n",
      "INFO - 01:00:55: EPOCH 30 - PROGRESS: at 66.76% examples, 900 words/s, in_qsize 5, out_qsize 0\n",
      "INFO - 01:01:06: EPOCH 30 - PROGRESS: at 71.73% examples, 905 words/s, in_qsize 6, out_qsize 0\n",
      "INFO - 01:01:08: EPOCH 30 - PROGRESS: at 75.05% examples, 939 words/s, in_qsize 5, out_qsize 0\n",
      "INFO - 01:01:18: EPOCH 30 - PROGRESS: at 76.68% examples, 907 words/s, in_qsize 5, out_qsize 0\n",
      "INFO - 01:01:19: EPOCH 30 - PROGRESS: at 80.01% examples, 940 words/s, in_qsize 5, out_qsize 0\n",
      "INFO - 01:01:30: EPOCH 30 - PROGRESS: at 81.64% examples, 909 words/s, in_qsize 6, out_qsize 0\n",
      "INFO - 01:01:31: EPOCH 30 - PROGRESS: at 84.97% examples, 942 words/s, in_qsize 5, out_qsize 0\n",
      "INFO - 01:01:41: EPOCH 30 - PROGRESS: at 86.69% examples, 911 words/s, in_qsize 5, out_qsize 0\n",
      "INFO - 01:01:52: EPOCH 30 - PROGRESS: at 91.80% examples, 916 words/s, in_qsize 5, out_qsize 0\n",
      "INFO - 01:02:03: EPOCH 30 - PROGRESS: at 96.63% examples, 919 words/s, in_qsize 3, out_qsize 0\n",
      "INFO - 01:02:04: worker thread finished; awaiting finish of 2 more threads\n",
      "INFO - 01:02:04: worker thread finished; awaiting finish of 1 more threads\n",
      "INFO - 01:02:04: worker thread finished; awaiting finish of 0 more threads\n",
      "INFO - 01:02:04: EPOCH - 30 : training on 601119 raw words (219311 effective words) took 231.1s, 949 effective words/s\n",
      "INFO - 01:02:04: training on a 18033570 raw words (6579997 effective words) took 7964.2s, 826 effective words/s\n"
     ]
    },
    {
     "name": "stdout",
     "output_type": "stream",
     "text": [
      "Time to train the model: 132.74 mins\n"
     ]
    }
   ],
   "source": [
    "t = time()\n",
    "\n",
    "w2v_model.train(sentences, total_examples=w2v_model.corpus_count, epochs=30, report_delay=1)\n",
    "\n",
    "print('Time to train the model: {} mins'.format(round((time() - t) / 60, 2)))"
   ]
  },
  {
   "cell_type": "code",
   "execution_count": null,
   "metadata": {},
   "outputs": [],
   "source": []
  },
  {
   "cell_type": "markdown",
   "metadata": {},
   "source": [
    "## K Means Clustering Example with Word2Vec in Data Mining or Machine Learning"
   ]
  },
  {
   "cell_type": "code",
   "execution_count": 3,
   "metadata": {},
   "outputs": [
    {
     "name": "stderr",
     "output_type": "stream",
     "text": [
      "D:\\anaconda\\lib\\site-packages\\gensim\\models\\base_any2vec.py:743: UserWarning: C extension not loaded, training will be slow. Install a C compiler and reinstall gensim for fast training.\n",
      "  \"C extension not loaded, training will be slow. \"\n"
     ]
    }
   ],
   "source": [
    "from gensim.models import Word2Vec\n",
    "sentences = [['this', 'is', 'the', 'good', 'machine', 'learning', 'book'],\n",
    "            ['this', 'is',  'another', 'book'],\n",
    "            ['one', 'more', 'book'],\n",
    "            ['this', 'is', 'the', 'new', 'post'],\n",
    "            ['this', 'is', 'about', 'machine', 'learning', 'post'],  \n",
    "            ['and', 'this', 'is', 'the', 'last', 'post']]\n",
    "model = Word2Vec(sentences, min_count=1)"
   ]
  },
  {
   "cell_type": "code",
   "execution_count": 4,
   "metadata": {},
   "outputs": [
    {
     "name": "stdout",
     "output_type": "stream",
     "text": [
      "-0.202354\n",
      "-0.15367913\n"
     ]
    }
   ],
   "source": [
    "print (model.wv.similarity('this', 'is'))\n",
    "print (model.wv.similarity('post', 'book'))"
   ]
  },
  {
   "cell_type": "code",
   "execution_count": 5,
   "metadata": {},
   "outputs": [
    {
     "data": {
      "text/plain": [
       "['this',\n",
       " 'is',\n",
       " 'the',\n",
       " 'good',\n",
       " 'machine',\n",
       " 'learning',\n",
       " 'book',\n",
       " 'another',\n",
       " 'one',\n",
       " 'more',\n",
       " 'new',\n",
       " 'post',\n",
       " 'about',\n",
       " 'and',\n",
       " 'last']"
      ]
     },
     "execution_count": 5,
     "metadata": {},
     "output_type": "execute_result"
    }
   ],
   "source": [
    "list(model.wv.vocab)"
   ]
  },
  {
   "cell_type": "code",
   "execution_count": 6,
   "metadata": {},
   "outputs": [],
   "source": [
    "X = model.wv[model.wv.vocab]"
   ]
  },
  {
   "cell_type": "code",
   "execution_count": 7,
   "metadata": {},
   "outputs": [],
   "source": [
    "from nltk.cluster import KMeansClusterer\n",
    "import nltk"
   ]
  },
  {
   "cell_type": "code",
   "execution_count": 8,
   "metadata": {},
   "outputs": [],
   "source": [
    "from gensim.models import Word2Vec\n",
    " \n",
    "from nltk.cluster import KMeansClusterer\n",
    "import nltk\n",
    " \n",
    "from sklearn import cluster\n",
    "from sklearn import metrics"
   ]
  },
  {
   "cell_type": "code",
   "execution_count": 45,
   "metadata": {},
   "outputs": [
    {
     "name": "stderr",
     "output_type": "stream",
     "text": [
      "D:\\anaconda\\lib\\site-packages\\gensim\\models\\base_any2vec.py:743: UserWarning: C extension not loaded, training will be slow. Install a C compiler and reinstall gensim for fast training.\n",
      "  \"C extension not loaded, training will be slow. \"\n"
     ]
    }
   ],
   "source": [
    "# training data\n",
    " \n",
    "sentences = [['this', 'is', 'the', 'good', 'machine', 'learning', 'book'],\n",
    "            ['this', 'is',  'another', 'book'],\n",
    "            ['one', 'more', 'book'],\n",
    "            ['this', 'is', 'the', 'new', 'post'],\n",
    "            ['this', 'is', 'about', 'machine', 'learning', 'post'],  \n",
    "            ['and', 'this', 'is', 'the', 'last', 'post']]\n",
    " \n",
    " \n",
    "# training model\n",
    "model = Word2Vec(sentences, min_count=1, size=5)"
   ]
  },
  {
   "cell_type": "code",
   "execution_count": 46,
   "metadata": {},
   "outputs": [],
   "source": [
    "X = model.wv[model.wv.vocab]"
   ]
  },
  {
   "cell_type": "code",
   "execution_count": 11,
   "metadata": {},
   "outputs": [
    {
     "name": "stdout",
     "output_type": "stream",
     "text": [
      "[2, 0, 1, 1, 1, 0, 2, 1, 2, 2, 2, 0, 1, 0, 1]\n"
     ]
    }
   ],
   "source": [
    "NUM_CLUSTERS=3\n",
    "kclusterer = KMeansClusterer(NUM_CLUSTERS, distance=nltk.cluster.util.cosine_distance, repeats=25)\n",
    "assigned_clusters = kclusterer.cluster(X, assign_clusters=True)\n",
    "print (assigned_clusters)"
   ]
  },
  {
   "cell_type": "code",
   "execution_count": 12,
   "metadata": {},
   "outputs": [
    {
     "name": "stdout",
     "output_type": "stream",
     "text": [
      "this:2\n",
      "is:0\n",
      "the:1\n",
      "good:1\n",
      "machine:1\n",
      "learning:0\n",
      "book:2\n",
      "another:1\n",
      "one:2\n",
      "more:2\n",
      "new:2\n",
      "post:0\n",
      "about:1\n",
      "and:0\n",
      "last:1\n"
     ]
    }
   ],
   "source": [
    "words = list(model.wv.vocab)\n",
    "for i, word in enumerate(words):  \n",
    "    print (word + \":\" + str(assigned_clusters[i]))"
   ]
  },
  {
   "cell_type": "code",
   "execution_count": 13,
   "metadata": {},
   "outputs": [
    {
     "name": "stdout",
     "output_type": "stream",
     "text": [
      "Cluster id labels for inputted data\n",
      "[1 0 0 0 0 2 1 0 1 1 1 2 0 2 2]\n",
      "Centroids data\n",
      "[[-2.29351036e-03 -1.23260194e-04 -2.08298850e-04 -3.40878498e-04\n",
      "  -1.88502902e-03 -6.85001258e-04 -1.43340218e-03  6.29064743e-04\n",
      "   1.45069533e-03 -2.64151068e-03  1.75575586e-03 -2.28183693e-04\n",
      "  -1.32749544e-03  1.51780562e-03 -1.59218325e-03 -2.91213481e-04\n",
      "  -1.46377180e-03  2.43205321e-03  1.17184245e-04  1.80142128e-03\n",
      "  -2.15055491e-03  7.35008100e-04 -1.22145517e-03  1.70804630e-03\n",
      "  -2.32806103e-03  3.65341548e-04  8.00586480e-04  6.16186007e-04\n",
      "  -5.50433295e-04 -1.39262248e-03 -9.03634937e-04 -2.37990884e-04\n",
      "   9.24354419e-04 -2.25435826e-04  2.72993604e-03  1.89214270e-03\n",
      "   1.84335001e-03 -2.00135494e-03 -2.31003575e-03  1.09232985e-03\n",
      "   1.44514930e-03 -1.29833608e-03 -1.85423868e-03  2.01071240e-03\n",
      "  -5.47978387e-04 -5.50218567e-04 -1.63054280e-03 -1.84314442e-04\n",
      "   3.96550808e-04  3.86134512e-03  3.14573903e-04 -5.29277080e-04\n",
      "  -3.28788941e-04  9.00685671e-04 -2.78460840e-03  2.33463617e-03\n",
      "   2.88403186e-04  1.20079331e-03 -7.73940556e-05  1.38225942e-03\n",
      "   1.33902417e-03 -4.03961312e-04 -2.74504855e-04 -1.52990466e-03\n",
      "  -2.52206437e-03 -8.88715265e-04  7.34780682e-04  1.01427361e-03\n",
      "  -1.54195749e-03  3.73668096e-04 -6.84553524e-04 -1.23756216e-03\n",
      "   3.05876927e-03 -2.16290588e-03 -2.02165125e-03  3.14733945e-04\n",
      "  -1.11753505e-03 -6.15469122e-04 -3.14883888e-04 -2.79613305e-03\n",
      "   5.19605470e-04 -2.10548425e-03 -1.28706300e-03  2.01895647e-03\n",
      "   7.78057554e-04  1.65953289e-03 -5.04757045e-04 -1.58917834e-03\n",
      "  -1.73416617e-03  2.52988772e-03 -1.86596159e-03 -1.21592416e-03\n",
      "   3.65073211e-03 -8.88010894e-04 -7.19975040e-04 -2.43353727e-03\n",
      "  -1.26259401e-03  1.43130706e-03  1.12081494e-03  6.86810352e-04]\n",
      " [ 2.98554823e-03  2.54044123e-03 -1.42768840e-04 -4.62553668e-04\n",
      "   3.67943430e-04  1.69499894e-03  2.43761414e-03  8.52987359e-05\n",
      "   1.56218675e-03 -1.00623118e-04 -3.42345680e-04 -2.56818393e-03\n",
      "   3.11655551e-03 -2.63215136e-03  1.84753910e-03 -1.75823411e-03\n",
      "   1.06665946e-03 -2.00306298e-03 -3.91450012e-04 -7.71440216e-04\n",
      "   4.20006807e-04  1.84268865e-04  2.30113766e-03 -1.52729603e-03\n",
      "   5.36404666e-04  1.77857943e-03 -7.25600577e-04  5.91568649e-04\n",
      "   2.77417828e-04 -2.16607843e-03  1.63681270e-03  8.28029704e-04\n",
      "  -2.21879804e-04  2.74146535e-03 -1.22780306e-03  1.91413017e-03\n",
      "  -4.85845550e-04 -4.56484209e-04 -2.62000319e-03  1.25868851e-03\n",
      "   1.24071550e-04 -1.06820790e-03 -8.71089404e-04 -1.02700223e-03\n",
      "   1.81124458e-04 -1.71654322e-03  3.24519526e-04  1.71132572e-03\n",
      "  -2.18946370e-04 -2.93530594e-03  7.32370463e-05  1.72978267e-03\n",
      "  -1.57464412e-03 -1.58298260e-03 -2.50694808e-03 -6.30756433e-04\n",
      "  -9.77351097e-04 -4.67437494e-04  2.11090548e-04 -1.87548075e-03\n",
      "   1.37681072e-03 -3.11670301e-04 -1.16151816e-04 -8.11508740e-04\n",
      "  -2.79050146e-04  1.40729954e-03  2.01725122e-03 -2.17389967e-03\n",
      "   8.48901982e-04 -9.68008360e-04 -7.50759733e-04 -2.43633939e-03\n",
      "  -7.50920153e-04 -2.30887067e-03  5.21776499e-04 -4.85181808e-05\n",
      "  -1.02597824e-03  3.79964564e-04  2.45813630e-03 -1.14984578e-03\n",
      "   4.64308891e-04  2.07279343e-04  2.98475195e-03  1.19939563e-03\n",
      "   8.11798614e-04  9.45713837e-04 -8.68726522e-04  2.44426541e-04\n",
      "   6.91256195e-04  8.44356837e-04  3.53168289e-04  1.96785945e-03\n",
      "  -3.46968125e-04  1.83881749e-03 -6.46122731e-04  1.21735409e-03\n",
      "   1.72897300e-03  1.67504977e-03 -1.90320716e-04 -2.24459975e-04]\n",
      " [ 2.11996213e-03 -2.22765072e-03 -3.28638405e-03 -1.05569093e-03\n",
      "  -2.30508973e-03 -1.13238930e-05 -7.63638294e-04 -1.41306128e-03\n",
      "  -5.21335402e-04 -1.24127197e-03  2.95488071e-03 -1.33277569e-03\n",
      "  -1.86988909e-03 -1.43748836e-03  2.68715946e-03  5.24738629e-04\n",
      "  -2.86402577e-03 -8.11579521e-04  2.27129832e-03  5.58275438e-04\n",
      "   6.52531395e-04 -2.74513662e-03  1.69069215e-03 -7.05000479e-04\n",
      "  -1.99800427e-03 -1.77674193e-03  5.18849469e-04  1.43004023e-03\n",
      "  -5.32416801e-04  5.17511275e-04  2.73059215e-03 -5.79830841e-04\n",
      "  -1.52520917e-03  8.45151197e-04  1.66946312e-03  5.80924097e-05\n",
      "  -1.69160555e-03  2.06273096e-03 -7.43212062e-04  1.32291042e-03\n",
      "   1.39449141e-03 -4.57747665e-04 -1.55128771e-03  1.92343979e-03\n",
      "  -6.87792257e-04  2.98334344e-04  5.83258225e-05  5.39360568e-04\n",
      "  -2.84729106e-03 -1.76889682e-03 -7.77939858e-05  1.61976623e-03\n",
      "  -1.84240914e-03  2.23718863e-03  1.59149605e-03 -7.14009919e-04\n",
      "  -6.44199376e-04  6.92029425e-04 -1.56507012e-04 -1.76130165e-03\n",
      "  -4.38236399e-04 -5.32619772e-04 -5.76992752e-04 -5.90953161e-04\n",
      "   8.25469964e-04 -5.69696247e-04  4.14218637e-04 -2.11117510e-03\n",
      "  -7.72062456e-04 -2.86782579e-03  3.92455747e-03  3.77164222e-03\n",
      "   4.19900869e-04  2.30712746e-03  9.14475240e-04 -2.55143549e-03\n",
      "   3.40529229e-03 -1.24607515e-03  1.50775071e-04 -7.07559753e-04\n",
      "   7.49467523e-04 -1.32420217e-04  1.28490129e-03  1.00658671e-03\n",
      "   1.56163611e-03 -4.09959466e-04 -1.04873965e-04 -5.87548944e-04\n",
      "  -8.69104289e-04 -2.27587181e-04 -6.82098325e-04  2.80856341e-03\n",
      "  -2.48291274e-03  1.45936059e-03 -1.60390011e-03  1.54510804e-03\n",
      "  -3.96358839e-04 -8.51361954e-04 -4.57953429e-05  2.25222530e-03]]\n",
      "Score (Opposite of the value of X on the K-means objective which is Sum of distances of samples to their closest cluster center):\n",
      "-0.009290346701163799\n"
     ]
    }
   ],
   "source": [
    "kmeans = cluster.KMeans(n_clusters=NUM_CLUSTERS)\n",
    "kmeans.fit(X)\n",
    " \n",
    "labels = kmeans.labels_\n",
    "centroids = kmeans.cluster_centers_\n",
    " \n",
    "print (\"Cluster id labels for inputted data\")\n",
    "print (labels)\n",
    "print (\"Centroids data\")\n",
    "print (centroids)\n",
    " \n",
    "print (\"Score (Opposite of the value of X on the K-means objective which is Sum of distances of samples to their closest cluster center):\")\n",
    "print (kmeans.score(X))"
   ]
  },
  {
   "cell_type": "code",
   "execution_count": 47,
   "metadata": {},
   "outputs": [],
   "source": [
    "w2v = dict(zip(model.wv.index2word, model.wv.vectors))"
   ]
  },
  {
   "cell_type": "code",
   "execution_count": 15,
   "metadata": {},
   "outputs": [],
   "source": [
    "#MeanEmbeddingVectorizer(w2v)"
   ]
  },
  {
   "cell_type": "code",
   "execution_count": 69,
   "metadata": {},
   "outputs": [
    {
     "data": {
      "text/plain": [
       "5"
      ]
     },
     "execution_count": 69,
     "metadata": {},
     "output_type": "execute_result"
    }
   ],
   "source": [
    "len(next(iter(w2v.items()))[1])"
   ]
  },
  {
   "cell_type": "code",
   "execution_count": null,
   "metadata": {},
   "outputs": [],
   "source": [
    "class MeanEmbeddingVectorizer(object):\n",
    "    def ___init__(self, word2vec):\n",
    "        self.word2vec = word2vec\n",
    "        self.dim = next(iter(w2v.items()))[1]\n",
    "    \n",
    "    def transform(self, X):\n",
    "        "
   ]
  },
  {
   "cell_type": "code",
   "execution_count": 48,
   "metadata": {},
   "outputs": [],
   "source": [
    "import numpy as np\n",
    "w2v_dict = dict(zip(model.wv.index2word, model.wv.vectors))"
   ]
  },
  {
   "cell_type": "code",
   "execution_count": 100,
   "metadata": {},
   "outputs": [],
   "source": [
    "sentences = [['this', 'is', 'the', 'good', 'machine', 'learning', 'book'],\n",
    "            ['this', 'is',  'another', 'book'],\n",
    "            ['one', 'more', 'book'],\n",
    "            ['this', 'is', 'the', 'new', 'post', 'me'],\n",
    "            ['this', 'is', 'about', 'machine', 'learning', 'post'],  \n",
    "            ['and', 'this', 'is', 'the', 'last', 'post'],\n",
    "            ['I', 'like', 'computer', 'science']]"
   ]
  },
  {
   "cell_type": "code",
   "execution_count": 104,
   "metadata": {},
   "outputs": [],
   "source": [
    "def MeanEmbeddingVectorizer(w2v_dict, doc):\n",
    "    \"\"\"\n",
    "    # The doc should consists of a list of tokens.\n",
    "    # Out of vocabulary word will not be considered.\n",
    "    # w2v_dict = dict(zip(model.wv.index2word, model.wv.vectors))\n",
    "    \"\"\"\n",
    "    words = [word for word in doc if word in w2v_dict]\n",
    "    if len(words) > 1:\n",
    "        vec = np.mean([w2v_dict[word] for word in words], axis = 0)\n",
    "    else:\n",
    "        vec = np.zeros(len(next(iter(w2v_dict.items()))[1]))\n",
    "            \n",
    "    return vec"
   ]
  },
  {
   "cell_type": "code",
   "execution_count": 105,
   "metadata": {},
   "outputs": [],
   "source": [
    "docvector = [MeanEmbeddingVectorizer(w2v_dict, doc) for doc in sentences]"
   ]
  },
  {
   "cell_type": "code",
   "execution_count": 106,
   "metadata": {},
   "outputs": [
    {
     "data": {
      "text/plain": [
       "[array([-0.00728373,  0.02147894, -0.0124898 , -0.00966598, -0.03087616],\n",
       "       dtype=float32),\n",
       " array([-0.00498584,  0.02823093,  0.02290849, -0.02432608, -0.01327952],\n",
       "       dtype=float32),\n",
       " array([ 0.06013088,  0.06479429, -0.02545417, -0.03378672,  0.0080279 ],\n",
       "       dtype=float32),\n",
       " array([ 0.01382732,  0.03145969, -0.01428377,  0.00441358, -0.03515422],\n",
       "       dtype=float32),\n",
       " array([ 0.02612691,  0.02367132, -0.03386718, -0.01743297, -0.02127755],\n",
       "       dtype=float32),\n",
       " array([ 0.00801083,  0.00841187, -0.02432536, -0.00047642, -0.03645862],\n",
       "       dtype=float32),\n",
       " array([0., 0., 0., 0., 0.])]"
      ]
     },
     "execution_count": 106,
     "metadata": {},
     "output_type": "execute_result"
    }
   ],
   "source": [
    "docvector"
   ]
  },
  {
   "cell_type": "code",
   "execution_count": null,
   "metadata": {},
   "outputs": [],
   "source": [
    "np.array([\n",
    "            np.mean([self.word2vec[w] for w in words if w in self.word2vec]\n",
    "                    or [np.zeros(self.dim)], axis=0)\n",
    "            for words in X\n",
    "        ])"
   ]
  },
  {
   "cell_type": "code",
   "execution_count": null,
   "metadata": {},
   "outputs": [],
   "source": []
  },
  {
   "cell_type": "code",
   "execution_count": 107,
   "metadata": {},
   "outputs": [],
   "source": [
    "a = {}\n",
    "a[1] = np.zeros(4 * 3, dtype = 'float32')"
   ]
  },
  {
   "cell_type": "code",
   "execution_count": 108,
   "metadata": {},
   "outputs": [
    {
     "data": {
      "text/plain": [
       "{1: array([0., 0., 0., 0., 0., 0., 0., 0., 0., 0., 0., 0.], dtype=float32)}"
      ]
     },
     "execution_count": 108,
     "metadata": {},
     "output_type": "execute_result"
    }
   ],
   "source": [
    "a"
   ]
  },
  {
   "cell_type": "markdown",
   "metadata": {},
   "source": [
    "## Extra: Word2Wec: t-SNE Visualization"
   ]
  },
  {
   "cell_type": "code",
   "execution_count": 127,
   "metadata": {},
   "outputs": [],
   "source": [
    "from sklearn.manifold import TSNE\n",
    "import pandas as pd"
   ]
  },
  {
   "cell_type": "code",
   "execution_count": 110,
   "metadata": {},
   "outputs": [],
   "source": [
    "word2vec_model = model"
   ]
  },
  {
   "cell_type": "code",
   "execution_count": 113,
   "metadata": {},
   "outputs": [],
   "source": [
    "vocab = word2vec_model.wv.vocab\n",
    "emb_tuple = tuple([word2vec_model.wv[v] for v in vocab])"
   ]
  },
  {
   "cell_type": "code",
   "execution_count": 119,
   "metadata": {},
   "outputs": [],
   "source": [
    "X = np.vstack(emb_tuple)\n",
    "# X = word2vec_model.wv.vectors"
   ]
  },
  {
   "cell_type": "code",
   "execution_count": 122,
   "metadata": {},
   "outputs": [
    {
     "data": {
      "text/plain": [
       "array([[-248.05272  ,   59.880234 ],\n",
       "       [   6.7918677, -200.91273  ],\n",
       "       [-102.73801  ,  -81.31129  ],\n",
       "       [ 302.39603  , -162.32826  ],\n",
       "       [ 113.45437  ,   69.64149  ],\n",
       "       [-153.33902  ,  226.8898   ],\n",
       "       [ 173.15181  , -295.69476  ],\n",
       "       [  -5.018916 , -385.68875  ],\n",
       "       [  39.684937 ,  250.60515  ],\n",
       "       [-289.117    , -124.95292  ],\n",
       "       [-171.88866  , -274.8171   ],\n",
       "       [ 300.5485   ,   23.309414 ],\n",
       "       [ 235.22116  ,  209.9006   ],\n",
       "       [ -48.88016  ,   68.81081  ],\n",
       "       [ 122.907616 ,  -90.0231   ]], dtype=float32)"
      ]
     },
     "execution_count": 122,
     "metadata": {},
     "output_type": "execute_result"
    }
   ],
   "source": [
    "tsne_model = TSNE(n_components = 2, random_state = 0, verbose = 0)\n",
    "tsne_model.fit_transform(X)"
   ]
  },
  {
   "cell_type": "code",
   "execution_count": 128,
   "metadata": {},
   "outputs": [],
   "source": [
    "plain_tsne = pd.DataFrame(tsne_model.embedding_[:, 0], columns = ['x'])\n",
    "plain_tsne['y'] = pd.DataFrame(tsne_model.embedding_[:, 1])\n",
    "plain_tsne['word'] = list(vocab)"
   ]
  },
  {
   "cell_type": "code",
   "execution_count": 143,
   "metadata": {},
   "outputs": [
    {
     "data": {
      "image/png": "[encoded data removed]",
      "text/plain": [
       "<Figure size 576x432 with 1 Axes>"
      ]
     },
     "metadata": {},
     "output_type": "display_data"
    }
   ],
   "source": [
    "ax = plain_tsne.plot.scatter(x = 'x', y = 'y', figsize = (8, 6), s = 30)\n",
    "for i, txt in enumerate(plain_tsne.word):\n",
    "    ax.annotate(txt, (plain_tsne.x.iat[i],plain_tsne.y.iat[i]))"
   ]
  },
  {
   "cell_type": "code",
   "execution_count": 140,
   "metadata": {},
   "outputs": [
    {
     "ename": "IndexError",
     "evalue": "index 12 is out of bounds for axis 0 with size 12",
     "output_type": "error",
     "traceback": [
      "\u001b[1;31m---------------------------------------------------------------------------\u001b[0m",
      "\u001b[1;31mIndexError\u001b[0m                                Traceback (most recent call last)",
      "\u001b[1;32m<ipython-input-140-013b125d527d>\u001b[0m in \u001b[0;36m<module>\u001b[1;34m()\u001b[0m\n\u001b[0;32m      1\u001b[0m \u001b[0max\u001b[0m \u001b[1;33m=\u001b[0m \u001b[0mdf\u001b[0m\u001b[1;33m.\u001b[0m\u001b[0mplot\u001b[0m\u001b[1;33m.\u001b[0m\u001b[0mscatter\u001b[0m\u001b[1;33m(\u001b[0m\u001b[0mx\u001b[0m\u001b[1;33m=\u001b[0m\u001b[1;34m'x'\u001b[0m\u001b[1;33m,\u001b[0m \u001b[0my\u001b[0m\u001b[1;33m=\u001b[0m\u001b[1;34m'y'\u001b[0m\u001b[1;33m,\u001b[0m \u001b[0malpha\u001b[0m\u001b[1;33m=\u001b[0m\u001b[1;36m0.5\u001b[0m\u001b[1;33m)\u001b[0m\u001b[1;33m\u001b[0m\u001b[0m\n\u001b[0;32m      2\u001b[0m \u001b[1;32mfor\u001b[0m \u001b[0mi\u001b[0m\u001b[1;33m,\u001b[0m \u001b[0mtxt\u001b[0m \u001b[1;32min\u001b[0m \u001b[0menumerate\u001b[0m\u001b[1;33m(\u001b[0m\u001b[0mplain_tsne\u001b[0m\u001b[1;33m.\u001b[0m\u001b[0mword\u001b[0m\u001b[1;33m)\u001b[0m\u001b[1;33m:\u001b[0m\u001b[1;33m\u001b[0m\u001b[0m\n\u001b[1;32m----> 3\u001b[1;33m     \u001b[0max\u001b[0m\u001b[1;33m.\u001b[0m\u001b[0mannotate\u001b[0m\u001b[1;33m(\u001b[0m\u001b[0mtxt\u001b[0m\u001b[1;33m,\u001b[0m \u001b[1;33m(\u001b[0m\u001b[0mdf\u001b[0m\u001b[1;33m.\u001b[0m\u001b[0mx\u001b[0m\u001b[1;33m.\u001b[0m\u001b[0miat\u001b[0m\u001b[1;33m[\u001b[0m\u001b[0mi\u001b[0m\u001b[1;33m]\u001b[0m\u001b[1;33m,\u001b[0m\u001b[0mdf\u001b[0m\u001b[1;33m.\u001b[0m\u001b[0my\u001b[0m\u001b[1;33m.\u001b[0m\u001b[0miat\u001b[0m\u001b[1;33m[\u001b[0m\u001b[0mi\u001b[0m\u001b[1;33m]\u001b[0m\u001b[1;33m)\u001b[0m\u001b[1;33m)\u001b[0m\u001b[1;33m\u001b[0m\u001b[0m\n\u001b[0m\u001b[0;32m      4\u001b[0m \u001b[0mplt\u001b[0m\u001b[1;33m.\u001b[0m\u001b[0mshow\u001b[0m\u001b[1;33m(\u001b[0m\u001b[1;33m)\u001b[0m\u001b[1;33m\u001b[0m\u001b[0m\n",
      "\u001b[1;32mD:\\anaconda\\lib\\site-packages\\pandas\\core\\indexing.py\u001b[0m in \u001b[0;36m__getitem__\u001b[1;34m(self, key)\u001b[0m\n\u001b[0;32m   2140\u001b[0m \u001b[1;33m\u001b[0m\u001b[0m\n\u001b[0;32m   2141\u001b[0m         \u001b[0mkey\u001b[0m \u001b[1;33m=\u001b[0m \u001b[0mself\u001b[0m\u001b[1;33m.\u001b[0m\u001b[0m_convert_key\u001b[0m\u001b[1;33m(\u001b[0m\u001b[0mkey\u001b[0m\u001b[1;33m)\u001b[0m\u001b[1;33m\u001b[0m\u001b[0m\n\u001b[1;32m-> 2142\u001b[1;33m         \u001b[1;32mreturn\u001b[0m \u001b[0mself\u001b[0m\u001b[1;33m.\u001b[0m\u001b[0mobj\u001b[0m\u001b[1;33m.\u001b[0m\u001b[0m_get_value\u001b[0m\u001b[1;33m(\u001b[0m\u001b[1;33m*\u001b[0m\u001b[0mkey\u001b[0m\u001b[1;33m,\u001b[0m \u001b[0mtakeable\u001b[0m\u001b[1;33m=\u001b[0m\u001b[0mself\u001b[0m\u001b[1;33m.\u001b[0m\u001b[0m_takeable\u001b[0m\u001b[1;33m)\u001b[0m\u001b[1;33m\u001b[0m\u001b[0m\n\u001b[0m\u001b[0;32m   2143\u001b[0m \u001b[1;33m\u001b[0m\u001b[0m\n\u001b[0;32m   2144\u001b[0m     \u001b[1;32mdef\u001b[0m \u001b[0m__setitem__\u001b[0m\u001b[1;33m(\u001b[0m\u001b[0mself\u001b[0m\u001b[1;33m,\u001b[0m \u001b[0mkey\u001b[0m\u001b[1;33m,\u001b[0m \u001b[0mvalue\u001b[0m\u001b[1;33m)\u001b[0m\u001b[1;33m:\u001b[0m\u001b[1;33m\u001b[0m\u001b[0m\n",
      "\u001b[1;32mD:\\anaconda\\lib\\site-packages\\pandas\\core\\series.py\u001b[0m in \u001b[0;36m_get_value\u001b[1;34m(self, label, takeable)\u001b[0m\n\u001b[0;32m   1038\u001b[0m     \u001b[1;32mdef\u001b[0m \u001b[0m_get_value\u001b[0m\u001b[1;33m(\u001b[0m\u001b[0mself\u001b[0m\u001b[1;33m,\u001b[0m \u001b[0mlabel\u001b[0m\u001b[1;33m,\u001b[0m \u001b[0mtakeable\u001b[0m\u001b[1;33m=\u001b[0m\u001b[1;32mFalse\u001b[0m\u001b[1;33m)\u001b[0m\u001b[1;33m:\u001b[0m\u001b[1;33m\u001b[0m\u001b[0m\n\u001b[0;32m   1039\u001b[0m         \u001b[1;32mif\u001b[0m \u001b[0mtakeable\u001b[0m \u001b[1;32mis\u001b[0m \u001b[1;32mTrue\u001b[0m\u001b[1;33m:\u001b[0m\u001b[1;33m\u001b[0m\u001b[0m\n\u001b[1;32m-> 1040\u001b[1;33m             \u001b[1;32mreturn\u001b[0m \u001b[0mcom\u001b[0m\u001b[1;33m.\u001b[0m\u001b[0m_maybe_box_datetimelike\u001b[0m\u001b[1;33m(\u001b[0m\u001b[0mself\u001b[0m\u001b[1;33m.\u001b[0m\u001b[0m_values\u001b[0m\u001b[1;33m[\u001b[0m\u001b[0mlabel\u001b[0m\u001b[1;33m]\u001b[0m\u001b[1;33m)\u001b[0m\u001b[1;33m\u001b[0m\u001b[0m\n\u001b[0m\u001b[0;32m   1041\u001b[0m         \u001b[1;32mreturn\u001b[0m \u001b[0mself\u001b[0m\u001b[1;33m.\u001b[0m\u001b[0mindex\u001b[0m\u001b[1;33m.\u001b[0m\u001b[0mget_value\u001b[0m\u001b[1;33m(\u001b[0m\u001b[0mself\u001b[0m\u001b[1;33m.\u001b[0m\u001b[0m_values\u001b[0m\u001b[1;33m,\u001b[0m \u001b[0mlabel\u001b[0m\u001b[1;33m)\u001b[0m\u001b[1;33m\u001b[0m\u001b[0m\n\u001b[0;32m   1042\u001b[0m     \u001b[0m_get_value\u001b[0m\u001b[1;33m.\u001b[0m\u001b[0m__doc__\u001b[0m \u001b[1;33m=\u001b[0m \u001b[0mget_value\u001b[0m\u001b[1;33m.\u001b[0m\u001b[0m__doc__\u001b[0m\u001b[1;33m\u001b[0m\u001b[0m\n",
      "\u001b[1;31mIndexError\u001b[0m: index 12 is out of bounds for axis 0 with size 12"
     ]
    },
    {
     "data": {
      "image/png": "[encoded data removed]",
      "text/plain": [
       "<Figure size 432x288 with 1 Axes>"
      ]
     },
     "metadata": {},
     "output_type": "display_data"
    }
   ],
   "source": [
    "ax = df.plot.scatter(x='x', y='y', alpha=0.5)\n",
    "for i, txt in enumerate(plain_tsne.word):\n",
    "    ax.annotate(txt, (df.x.iat[i],df.y.iat[i]))\n",
    "plt.show()"
   ]
  },
  {
   "cell_type": "code",
   "execution_count": null,
   "metadata": {},
   "outputs": [],
   "source": []
  }
 ],
 "metadata": {
  "kernelspec": {
   "display_name": "Python 3",
   "language": "python",
   "name": "python3"
  },
  "language_info": {
   "codemirror_mode": {
    "name": "ipython",
    "version": 3
   },
   "file_extension": ".py",
   "mimetype": "text/x-python",
   "name": "python",
   "nbconvert_exporter": "python",
   "pygments_lexer": "ipython3",
   "version": "3.6.5"
  }
 },
 "nbformat": 4,
 "nbformat_minor": 2
}
